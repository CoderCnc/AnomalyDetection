{
 "cells": [
  {
   "cell_type": "markdown",
   "id": "ee8ce6a1",
   "metadata": {},
   "source": [
    "## In this notebook, we will explore how to do anomaly detection."
   ]
  },
  {
   "cell_type": "code",
   "execution_count": null,
   "id": "a0bf258e",
   "metadata": {},
   "outputs": [],
   "source": [
    "import pandas as pd"
   ]
  },
  {
   "cell_type": "code",
   "execution_count": null,
   "id": "6dc54f06",
   "metadata": {},
   "outputs": [],
   "source": [
    "df = pd.read_csv(\"nyc_taxi.csv\")\n",
    "df.head()"
   ]
  },
  {
   "cell_type": "code",
   "execution_count": null,
   "id": "69184ca0",
   "metadata": {},
   "outputs": [],
   "source": [
    "def overview(df: pd.DataFrame, timestamp_col: str = None) -> None:\n",
    "    print('Null Count:\\n', df.isnull().sum(),'\\n')\n",
    "    print('Data Types:\\n', df.dtypes)\n",
    "    \n",
    "    if timestamp_col is not None:\n",
    "        df[timestamp_col] = pd.to_datetime(df[timestamp_col], errors='coerce')\n",
    "\n",
    "        print('\\nDate Range:\\n\\nStart:\\t',df[timestamp_col].min())\n",
    "        print('End:\\t',df[timestamp_col].max())\n",
    "        print('Days:\\t',(df[timestamp_col].max() - df[timestamp_col].min()))"
   ]
  },
  {
   "cell_type": "code",
   "execution_count": null,
   "id": "1f829540",
   "metadata": {},
   "outputs": [],
   "source": [
    "overview(df, timestamp_col='timestamp')"
   ]
  },
  {
   "cell_type": "code",
   "execution_count": null,
   "id": "7acf9b2f",
   "metadata": {},
   "outputs": [],
   "source": [
    "pip install holoviews bokeh"
   ]
  },
  {
   "cell_type": "code",
   "execution_count": null,
   "id": "caec1c16",
   "metadata": {},
   "outputs": [],
   "source": [
    "import holoviews as hv\n",
    "from holoviews import opts\n",
    "hv.extension('bokeh')"
   ]
  },
  {
   "cell_type": "code",
   "execution_count": null,
   "id": "0fa3fd97",
   "metadata": {},
   "outputs": [],
   "source": [
    "df.head()"
   ]
  },
  {
   "cell_type": "code",
   "execution_count": null,
   "id": "546fd1a3",
   "metadata": {},
   "outputs": [],
   "source": [
    "Hourly = hv.Curve(df.set_index('timestamp').resample('h').mean()).opts(\n",
    "    opts.Curve(title=\"New York City Taxi Demand Hourly\", xlabel=\"\", ylabel=\"Demand\",\n",
    "               width=700, height=400,tools=['hover'],show_grid=True))\n",
    "\n",
    "Daily = hv.Curve(df.set_index('timestamp').resample('D').mean()).opts(\n",
    "    opts.Curve(title=\"New York City Taxi Demand Daily\", xlabel=\"\", ylabel=\"Demand\",\n",
    "               width=700, height=400,tools=['hover'],show_grid=True))\n",
    "\n",
    "Weekly = hv.Curve(df.set_index('timestamp').resample('W').mean()).opts(\n",
    "    opts.Curve(title=\"New York City Taxi Demand Weekly\", xlabel=\"Date\", ylabel=\"Demand\",\n",
    "               width=700, height=400,tools=['hover'],show_grid=True))\n",
    "\n",
    "\n",
    "(Hourly + Daily + Weekly).opts(shared_axes=False).cols(1)\n",
    "\n",
    "#Hourly"
   ]
  },
  {
   "cell_type": "code",
   "execution_count": null,
   "id": "49631a06",
   "metadata": {},
   "outputs": [],
   "source": [
    "df"
   ]
  },
  {
   "cell_type": "code",
   "execution_count": null,
   "id": "433ccfef",
   "metadata": {},
   "outputs": [],
   "source": [
    "df_hourly = df.set_index('timestamp').resample('h').mean().reset_index()\n",
    "df_daily = df.set_index('timestamp').resample('D').mean().reset_index()\n",
    "df_weekly = df.set_index('timestamp').resample('W').mean().reset_index()"
   ]
  },
  {
   "cell_type": "code",
   "execution_count": null,
   "id": "ba40765f",
   "metadata": {},
   "outputs": [],
   "source": [
    "df_daily[\"value\"] = df_daily[\"value\"].round(2)"
   ]
  },
  {
   "cell_type": "code",
   "execution_count": null,
   "id": "0edfcedf",
   "metadata": {},
   "outputs": [],
   "source": [
    "df_daily"
   ]
  },
  {
   "cell_type": "code",
   "execution_count": null,
   "id": "b63e6c0d",
   "metadata": {},
   "outputs": [],
   "source": [
    "df_hourly[\"Weekday\"] = df_hourly[\"timestamp\"].dt.day_name()"
   ]
  },
  {
   "cell_type": "code",
   "execution_count": null,
   "id": "cfaaa770",
   "metadata": {},
   "outputs": [],
   "source": [
    "df_hourly.drop(columns=[\"Weekday\"], inplace=True)"
   ]
  },
  {
   "cell_type": "code",
   "execution_count": null,
   "id": "8af29c26",
   "metadata": {},
   "outputs": [],
   "source": [
    "for DataFrame in [df_hourly, df_daily]:\n",
    "    DataFrame['Weekday'] = DataFrame[\"timestamp\"].dt.day_name()\n",
    "    DataFrame['Hour'] = DataFrame['timestamp'].dt.hour\n",
    "    DataFrame['Day'] = DataFrame['timestamp'].dt.weekday + 1\n",
    "    DataFrame['Month'] = DataFrame['timestamp'].dt.month\n",
    "    DataFrame['Year'] = DataFrame['timestamp'].dt.year\n",
    "    DataFrame['Month_day'] = DataFrame['timestamp'].dt.day\n",
    "    DataFrame['Lag'] = DataFrame['value'].shift(1)\n",
    "    DataFrame['Rolling_Mean'] = DataFrame['value'].rolling(7, min_periods=1).mean()\n",
    "    DataFrame = DataFrame.dropna()"
   ]
  },
  {
   "cell_type": "code",
   "execution_count": null,
   "id": "d7397384",
   "metadata": {},
   "outputs": [],
   "source": [
    "(hv.Distribution(df['value'])\n",
    ".opts(opts.Distribution(title=\"Overall Value Distribution\",\n",
    "                        xlabel=\"Value\",\n",
    "                        ylabel=\"Density\",\n",
    "                        width=700, height=300,\n",
    "                        tools=['hover'],\n",
    "                        show_grid=True)\n",
    "     ))"
   ]
  },
  {
   "cell_type": "code",
   "execution_count": null,
   "id": "f6f12e6b",
   "metadata": {},
   "outputs": [],
   "source": [
    "by_weekday = df_hourly.groupby(['Hour','Weekday']).mean()['value'].unstack()\n",
    "plot = hv.Distribution(by_weekday['Monday'], label='Monday') * hv.Distribution(by_weekday['Tuesday'], label='Tuesday') * hv.Distribution(by_weekday['Wednesday'], label='Wednesday') * hv.Distribution(by_weekday['Thursday'], label='Thursday') * hv.Distribution(by_weekday['Friday'], label='Friday') * hv.Distribution(by_weekday['Saturday'], label='Saturday') *hv.Distribution(by_weekday['Sunday'], label='Sunday').opts(opts.Distribution(title=\"Demand Density by Day & Hour\"))\n",
    "plot.opts(opts.Distribution(width=800, height=300,tools=['hover'],show_grid=True, ylabel=\"Freq\", xlabel=\"Demand\"))"
   ]
  },
  {
   "cell_type": "code",
   "execution_count": null,
   "id": "e965ba95",
   "metadata": {},
   "outputs": [],
   "source": [
    "hv.Bars(df_hourly[['value','Weekday']].groupby('Weekday').sum()).opts(\n",
    "    opts.Bars(title=\"New York City Taxi Demand by Day\", xlabel=\"\", ylabel=\"Demand\",\n",
    "               width=700, height=300,tools=['hover'],show_grid=True))"
   ]
  },
  {
   "cell_type": "code",
   "execution_count": 57,
   "id": "74d4ce6f",
   "metadata": {},
   "outputs": [],
   "source": [
    "# Define the order of weekdays\n",
    "weekday_order = ['Monday', 'Tuesday', 'Wednesday', 'Thursday', 'Friday', 'Saturday', 'Sunday']\n",
    "\n",
    "# Set the Weekday column as a categorical type with the defined order\n",
    "df_hourly['Weekday'] = pd.Categorical(df_hourly['Weekday'], categories=weekday_order, ordered=True)"
   ]
  },
  {
   "cell_type": "code",
   "execution_count": 58,
   "id": "46b16dd3",
   "metadata": {},
   "outputs": [
    {
     "data": {},
     "metadata": {},
     "output_type": "display_data"
    },
    {
     "data": {
      "application/vnd.holoviews_exec.v0+json": "",
      "text/html": [
       "<div id='96fd6958-08e3-4bfe-8106-5d919ed990d6'>\n",
       "  <div id=\"c5d0ed89-196d-40fc-9c91-b30b5fbab88f\" data-root-id=\"96fd6958-08e3-4bfe-8106-5d919ed990d6\" style=\"display: contents;\"></div>\n",
       "</div>\n",
       "<script type=\"application/javascript\">(function(root) {\n",
       "  var docs_json = {\"a1ff3455-fe9e-4193-a764-fc7376e8b828\":{\"version\":\"3.8.0\",\"title\":\"Bokeh Application\",\"config\":{\"type\":\"object\",\"name\":\"DocumentConfig\",\"id\":\"ce65a6f6-7904-46d1-8aa9-de2200358b10\",\"attributes\":{\"notifications\":{\"type\":\"object\",\"name\":\"Notifications\",\"id\":\"04f8a2d8-fb70-4f54-8ed5-7ddfe747f310\"}}},\"roots\":[{\"type\":\"object\",\"name\":\"Row\",\"id\":\"96fd6958-08e3-4bfe-8106-5d919ed990d6\",\"attributes\":{\"name\":\"Row01942\",\"tags\":[\"embedded\"],\"stylesheets\":[\"\\n:host(.pn-loading):before, .pn-loading:before {\\n  background-color: #c3c3c3;\\n  mask-size: auto calc(min(50%, 300px));\\n  -webkit-mask-size: auto calc(min(50%, 300px));\\n}\",{\"type\":\"object\",\"name\":\"ImportedStyleSheet\",\"id\":\"7cf82b00-cf35-4489-8d5d-ee82b1f8d59d\",\"attributes\":{\"url\":\"https://cdn.holoviz.org/panel/1.8.1/dist/css/loading.css\"}},{\"type\":\"object\",\"name\":\"ImportedStyleSheet\",\"id\":\"45667348-0901-4465-ae66-3506c1164b45\",\"attributes\":{\"url\":\"https://cdn.holoviz.org/panel/1.8.1/dist/css/listpanel.css\"}},{\"type\":\"object\",\"name\":\"ImportedStyleSheet\",\"id\":\"d0a51154-0469-4026-b14a-499545a0e2b5\",\"attributes\":{\"url\":\"https://cdn.holoviz.org/panel/1.8.1/dist/bundled/theme/default.css\"}},{\"type\":\"object\",\"name\":\"ImportedStyleSheet\",\"id\":\"47af59c4-4b2f-4381-a676-ad8a6acc4616\",\"attributes\":{\"url\":\"https://cdn.holoviz.org/panel/1.8.1/dist/bundled/theme/native.css\"}}],\"min_width\":700,\"margin\":0,\"sizing_mode\":\"stretch_width\",\"align\":\"start\",\"children\":[{\"type\":\"object\",\"name\":\"Spacer\",\"id\":\"d91617df-aa31-4818-8541-9dd9f5caec53\",\"attributes\":{\"name\":\"HSpacer01946\",\"stylesheets\":[\"\\n:host(.pn-loading):before, .pn-loading:before {\\n  background-color: #c3c3c3;\\n  mask-size: auto calc(min(50%, 300px));\\n  -webkit-mask-size: auto calc(min(50%, 300px));\\n}\",{\"id\":\"7cf82b00-cf35-4489-8d5d-ee82b1f8d59d\"},{\"id\":\"d0a51154-0469-4026-b14a-499545a0e2b5\"},{\"id\":\"47af59c4-4b2f-4381-a676-ad8a6acc4616\"}],\"min_width\":0,\"margin\":0,\"sizing_mode\":\"stretch_width\",\"align\":\"start\"}},{\"type\":\"object\",\"name\":\"Figure\",\"id\":\"74d74b48-67b0-42d7-b31d-afbdcba058c7\",\"attributes\":{\"width\":700,\"height\":300,\"margin\":[5,10],\"sizing_mode\":\"fixed\",\"align\":\"start\",\"x_range\":{\"type\":\"object\",\"name\":\"FactorRange\",\"id\":\"15da7d5c-3c54-431f-add5-a20b1a61bba0\",\"attributes\":{\"name\":\"Weekday\",\"tags\":[[[\"Weekday\",null]],[]],\"factors\":[\"Monday\",\"Tuesday\",\"Wednesday\",\"Thursday\",\"Friday\",\"Saturday\",\"Sunday\"]}},\"y_range\":{\"type\":\"object\",\"name\":\"Range1d\",\"id\":\"2e61aaf6-c5ba-41aa-a51c-c4092cfcb975\",\"attributes\":{\"name\":\"value\",\"tags\":[[[\"value\",null]],{\"type\":\"map\",\"entries\":[[\"invert_yaxis\",false],[\"autorange\",false]]}],\"end\":17371.782652329748,\"reset_start\":0.0,\"reset_end\":17371.782652329748}},\"x_scale\":{\"type\":\"object\",\"name\":\"CategoricalScale\",\"id\":\"a8d495a6-a63c-4c81-801d-e38720966652\"},\"y_scale\":{\"type\":\"object\",\"name\":\"LinearScale\",\"id\":\"680e3572-5269-4d75-926d-c551c8de22b7\"},\"title\":{\"type\":\"object\",\"name\":\"Title\",\"id\":\"0b764219-dde4-4cf2-91b9-b72be6d45a49\",\"attributes\":{\"text\":\"New York City Taxi Demand by Day\",\"text_color\":\"black\",\"text_font_size\":\"12pt\"}},\"renderers\":[{\"type\":\"object\",\"name\":\"GlyphRenderer\",\"id\":\"de66d36f-4dc9-4f9c-ae45-9d1a206f372d\",\"attributes\":{\"data_source\":{\"type\":\"object\",\"name\":\"ColumnDataSource\",\"id\":\"b9effc05-9120-42e7-9191-487d5e1011f8\",\"attributes\":{\"selected\":{\"type\":\"object\",\"name\":\"Selection\",\"id\":\"8cf5748b-af97-4648-aadd-8e1c0552d28e\",\"attributes\":{\"indices\":[],\"line_indices\":[]}},\"selection_policy\":{\"type\":\"object\",\"name\":\"UnionRenderers\",\"id\":\"7b0fd4a9-45d3-4937-b6aa-a278351f6715\"},\"data\":{\"type\":\"map\",\"entries\":[[\"Weekday\",[\"Monday\",\"Tuesday\",\"Wednesday\",\"Thursday\",\"Friday\",\"Saturday\",\"Sunday\"]],[\"value\",{\"type\":\"ndarray\",\"array\":{\"type\":\"bytes\",\"data\":\"H4sIAAEAAAAC/2OL3sDKLXnKQX/3m03Jn047JDSyin2YcNah5v3e79e+n3UoPMxr/sf8vINKv82nC7MvOAgCwdFzZxwAK6dUBjgAAAA=\"},\"shape\":[7],\"dtype\":\"float64\",\"order\":\"little\"}]]}}},\"view\":{\"type\":\"object\",\"name\":\"CDSView\",\"id\":\"e571abb7-c1b6-4e4c-b182-acb25fc1ce1a\",\"attributes\":{\"filter\":{\"type\":\"object\",\"name\":\"AllIndices\",\"id\":\"646c5c3d-8dfa-4b39-95ac-02c8f340eb18\"}}},\"glyph\":{\"type\":\"object\",\"name\":\"VBar\",\"id\":\"667ec376-677b-4caa-9389-360656f49390\",\"attributes\":{\"tags\":[\"apply_ranges\"],\"x\":{\"type\":\"field\",\"field\":\"Weekday\"},\"width\":{\"type\":\"value\",\"value\":0.8},\"top\":{\"type\":\"field\",\"field\":\"value\"},\"fill_color\":{\"type\":\"value\",\"value\":\"#30a2da\"},\"hatch_color\":{\"type\":\"value\",\"value\":\"#30a2da\"}}},\"selection_glyph\":{\"type\":\"object\",\"name\":\"VBar\",\"id\":\"51570c01-12c3-4905-a3ab-a2696b509300\",\"attributes\":{\"tags\":[\"apply_ranges\"],\"x\":{\"type\":\"field\",\"field\":\"Weekday\"},\"width\":{\"type\":\"value\",\"value\":0.8},\"bottom\":{\"type\":\"value\",\"value\":0},\"top\":{\"type\":\"field\",\"field\":\"value\"},\"line_color\":{\"type\":\"value\",\"value\":\"black\"},\"line_alpha\":{\"type\":\"value\",\"value\":1.0},\"line_width\":{\"type\":\"value\",\"value\":1},\"line_join\":{\"type\":\"value\",\"value\":\"bevel\"},\"line_cap\":{\"type\":\"value\",\"value\":\"butt\"},\"line_dash\":{\"type\":\"value\",\"value\":[]},\"line_dash_offset\":{\"type\":\"value\",\"value\":0},\"fill_color\":{\"type\":\"value\",\"value\":\"#30a2da\"},\"fill_alpha\":{\"type\":\"value\",\"value\":1.0},\"hatch_color\":{\"type\":\"value\",\"value\":\"#30a2da\"},\"hatch_alpha\":{\"type\":\"value\",\"value\":1.0},\"hatch_scale\":{\"type\":\"value\",\"value\":12.0},\"hatch_pattern\":{\"type\":\"value\",\"value\":null},\"hatch_weight\":{\"type\":\"value\",\"value\":1.0}}},\"nonselection_glyph\":{\"type\":\"object\",\"name\":\"VBar\",\"id\":\"1b4e6b29-f3e4-4884-88c5-575142bbbda2\",\"attributes\":{\"tags\":[\"apply_ranges\"],\"x\":{\"type\":\"field\",\"field\":\"Weekday\"},\"width\":{\"type\":\"value\",\"value\":0.8},\"top\":{\"type\":\"field\",\"field\":\"value\"},\"line_alpha\":{\"type\":\"value\",\"value\":0.1},\"fill_color\":{\"type\":\"value\",\"value\":\"#30a2da\"},\"fill_alpha\":{\"type\":\"value\",\"value\":0.1},\"hatch_color\":{\"type\":\"value\",\"value\":\"#30a2da\"},\"hatch_alpha\":{\"type\":\"value\",\"value\":0.1}}},\"muted_glyph\":{\"type\":\"object\",\"name\":\"VBar\",\"id\":\"20aac69d-3796-46e9-8d75-8bc85cd6bd39\",\"attributes\":{\"tags\":[\"apply_ranges\"],\"x\":{\"type\":\"field\",\"field\":\"Weekday\"},\"width\":{\"type\":\"value\",\"value\":0.8},\"top\":{\"type\":\"field\",\"field\":\"value\"},\"line_alpha\":{\"type\":\"value\",\"value\":0.2},\"fill_color\":{\"type\":\"value\",\"value\":\"#30a2da\"},\"fill_alpha\":{\"type\":\"value\",\"value\":0.2},\"hatch_color\":{\"type\":\"value\",\"value\":\"#30a2da\"},\"hatch_alpha\":{\"type\":\"value\",\"value\":0.2}}}}}],\"toolbar\":{\"type\":\"object\",\"name\":\"Toolbar\",\"id\":\"9b246af1-87f6-43d0-9a9d-ebd6b4c618d6\",\"attributes\":{\"tools\":[{\"type\":\"object\",\"name\":\"WheelZoomTool\",\"id\":\"180d3c22-0936-44ba-9e13-7e55d7d101ee\",\"attributes\":{\"tags\":[\"hv_created\"],\"renderers\":\"auto\",\"zoom_together\":\"none\"}},{\"type\":\"object\",\"name\":\"HoverTool\",\"id\":\"93ddb276-d5a4-434f-833b-10322b2e9d67\",\"attributes\":{\"tags\":[\"hv_created\"],\"renderers\":[{\"id\":\"de66d36f-4dc9-4f9c-ae45-9d1a206f372d\"}],\"tooltips\":[[\"Weekday\",\"@{Weekday}\"],[\"value\",\"@{value}\"]],\"sort_by\":null}},{\"type\":\"object\",\"name\":\"SaveTool\",\"id\":\"55f0b9dc-6e78-4ccd-83c3-afc04c29607b\"},{\"type\":\"object\",\"name\":\"PanTool\",\"id\":\"da2cce38-5551-423b-ad2d-c1fdc1684a91\"},{\"type\":\"object\",\"name\":\"BoxZoomTool\",\"id\":\"ffd8d39e-87c4-4be0-8f79-f0f1a4cf4035\",\"attributes\":{\"dimensions\":\"both\",\"overlay\":{\"type\":\"object\",\"name\":\"BoxAnnotation\",\"id\":\"7dd80c2a-988f-4e52-b9e4-61fc853300bc\",\"attributes\":{\"syncable\":false,\"line_color\":\"black\",\"line_alpha\":1.0,\"line_width\":2,\"line_dash\":[4,4],\"fill_color\":\"lightgrey\",\"fill_alpha\":0.5,\"level\":\"overlay\",\"visible\":false,\"left\":{\"type\":\"number\",\"value\":\"nan\"},\"right\":{\"type\":\"number\",\"value\":\"nan\"},\"top\":{\"type\":\"number\",\"value\":\"nan\"},\"bottom\":{\"type\":\"number\",\"value\":\"nan\"},\"left_units\":\"canvas\",\"right_units\":\"canvas\",\"top_units\":\"canvas\",\"bottom_units\":\"canvas\",\"handles\":{\"type\":\"object\",\"name\":\"BoxInteractionHandles\",\"id\":\"22f813bb-6d30-4665-b6c5-5dd91116e378\",\"attributes\":{\"all\":{\"type\":\"object\",\"name\":\"AreaVisuals\",\"id\":\"e0b2a046-2827-449d-81a4-3da5a9868c39\",\"attributes\":{\"fill_color\":\"white\",\"hover_fill_color\":\"lightgray\"}}}}}}}},{\"type\":\"object\",\"name\":\"ResetTool\",\"id\":\"247847dd-792c-475f-a785-bc7ce0471c0c\"}],\"active_drag\":{\"id\":\"da2cce38-5551-423b-ad2d-c1fdc1684a91\"},\"active_scroll\":{\"id\":\"180d3c22-0936-44ba-9e13-7e55d7d101ee\"}}},\"left\":[{\"type\":\"object\",\"name\":\"LinearAxis\",\"id\":\"2d81759e-f4d4-44ef-b5f5-6633aa6e59c6\",\"attributes\":{\"ticker\":{\"type\":\"object\",\"name\":\"BasicTicker\",\"id\":\"54b1090b-ce83-4f5f-aee8-96f4bb54d750\",\"attributes\":{\"mantissas\":[1,2,5]}},\"formatter\":{\"type\":\"object\",\"name\":\"BasicTickFormatter\",\"id\":\"725c4011-b504-42ff-8fe7-75f512b7c636\"},\"axis_label\":\"Demand\",\"major_label_policy\":{\"type\":\"object\",\"name\":\"AllLabels\",\"id\":\"1ef312fb-5af2-45d7-8d2a-d523d1cc3431\"}}}],\"below\":[{\"type\":\"object\",\"name\":\"CategoricalAxis\",\"id\":\"45a0c172-5f9b-4b45-8105-fe455d58b773\",\"attributes\":{\"ticker\":{\"type\":\"object\",\"name\":\"CategoricalTicker\",\"id\":\"8615df96-bace-4cbc-b99c-be9b1220e4a4\"},\"formatter\":{\"type\":\"object\",\"name\":\"CategoricalTickFormatter\",\"id\":\"fd6714c2-53b1-4bd4-b4b7-235677ef2f08\"},\"axis_label\":\"\",\"major_label_policy\":{\"type\":\"object\",\"name\":\"AllLabels\",\"id\":\"d0cff9d5-6cb0-4d12-a3f1-7a743fde2aba\"}}}],\"center\":[{\"type\":\"object\",\"name\":\"Grid\",\"id\":\"96e725e4-ce40-4114-9870-7d84d670e3d3\",\"attributes\":{\"axis\":{\"id\":\"45a0c172-5f9b-4b45-8105-fe455d58b773\"},\"ticker\":{\"id\":\"8615df96-bace-4cbc-b99c-be9b1220e4a4\"}}},{\"type\":\"object\",\"name\":\"Grid\",\"id\":\"f9a60792-124f-47b2-a153-488e7e45a33c\",\"attributes\":{\"dimension\":1,\"axis\":{\"id\":\"2d81759e-f4d4-44ef-b5f5-6633aa6e59c6\"},\"ticker\":{\"id\":\"54b1090b-ce83-4f5f-aee8-96f4bb54d750\"}}}],\"min_border_top\":10,\"min_border_bottom\":10,\"min_border_left\":10,\"min_border_right\":10,\"output_backend\":\"webgl\"}},{\"type\":\"object\",\"name\":\"Spacer\",\"id\":\"e4429138-943a-402b-9097-74d7a0da02ff\",\"attributes\":{\"name\":\"HSpacer01947\",\"stylesheets\":[\"\\n:host(.pn-loading):before, .pn-loading:before {\\n  background-color: #c3c3c3;\\n  mask-size: auto calc(min(50%, 300px));\\n  -webkit-mask-size: auto calc(min(50%, 300px));\\n}\",{\"id\":\"7cf82b00-cf35-4489-8d5d-ee82b1f8d59d\"},{\"id\":\"d0a51154-0469-4026-b14a-499545a0e2b5\"},{\"id\":\"47af59c4-4b2f-4381-a676-ad8a6acc4616\"}],\"min_width\":0,\"margin\":0,\"sizing_mode\":\"stretch_width\",\"align\":\"start\"}}]}}],\"defs\":[{\"type\":\"model\",\"name\":\"ReactiveHTML1\"},{\"type\":\"model\",\"name\":\"FlexBox1\",\"properties\":[{\"name\":\"align_content\",\"kind\":\"Any\",\"default\":\"flex-start\"},{\"name\":\"align_items\",\"kind\":\"Any\",\"default\":\"flex-start\"},{\"name\":\"flex_direction\",\"kind\":\"Any\",\"default\":\"row\"},{\"name\":\"flex_wrap\",\"kind\":\"Any\",\"default\":\"wrap\"},{\"name\":\"gap\",\"kind\":\"Any\",\"default\":\"\"},{\"name\":\"justify_content\",\"kind\":\"Any\",\"default\":\"flex-start\"}]},{\"type\":\"model\",\"name\":\"FloatPanel1\",\"properties\":[{\"name\":\"config\",\"kind\":\"Any\",\"default\":{\"type\":\"map\"}},{\"name\":\"contained\",\"kind\":\"Any\",\"default\":true},{\"name\":\"position\",\"kind\":\"Any\",\"default\":\"right-top\"},{\"name\":\"offsetx\",\"kind\":\"Any\",\"default\":null},{\"name\":\"offsety\",\"kind\":\"Any\",\"default\":null},{\"name\":\"theme\",\"kind\":\"Any\",\"default\":\"primary\"},{\"name\":\"status\",\"kind\":\"Any\",\"default\":\"normalized\"}]},{\"type\":\"model\",\"name\":\"GridStack1\",\"properties\":[{\"name\":\"ncols\",\"kind\":\"Any\",\"default\":null},{\"name\":\"nrows\",\"kind\":\"Any\",\"default\":null},{\"name\":\"allow_resize\",\"kind\":\"Any\",\"default\":true},{\"name\":\"allow_drag\",\"kind\":\"Any\",\"default\":true},{\"name\":\"state\",\"kind\":\"Any\",\"default\":[]}]},{\"type\":\"model\",\"name\":\"drag1\",\"properties\":[{\"name\":\"slider_width\",\"kind\":\"Any\",\"default\":5},{\"name\":\"slider_color\",\"kind\":\"Any\",\"default\":\"black\"},{\"name\":\"start\",\"kind\":\"Any\",\"default\":0},{\"name\":\"end\",\"kind\":\"Any\",\"default\":100},{\"name\":\"value\",\"kind\":\"Any\",\"default\":50}]},{\"type\":\"model\",\"name\":\"click1\",\"properties\":[{\"name\":\"terminal_output\",\"kind\":\"Any\",\"default\":\"\"},{\"name\":\"debug_name\",\"kind\":\"Any\",\"default\":\"\"},{\"name\":\"clears\",\"kind\":\"Any\",\"default\":0}]},{\"type\":\"model\",\"name\":\"ReactiveESM1\",\"properties\":[{\"name\":\"esm_constants\",\"kind\":\"Any\",\"default\":{\"type\":\"map\"}}]},{\"type\":\"model\",\"name\":\"JSComponent1\",\"properties\":[{\"name\":\"esm_constants\",\"kind\":\"Any\",\"default\":{\"type\":\"map\"}}]},{\"type\":\"model\",\"name\":\"ReactComponent1\",\"properties\":[{\"name\":\"use_shadow_dom\",\"kind\":\"Any\",\"default\":true},{\"name\":\"esm_constants\",\"kind\":\"Any\",\"default\":{\"type\":\"map\"}}]},{\"type\":\"model\",\"name\":\"AnyWidgetComponent1\",\"properties\":[{\"name\":\"use_shadow_dom\",\"kind\":\"Any\",\"default\":true},{\"name\":\"esm_constants\",\"kind\":\"Any\",\"default\":{\"type\":\"map\"}}]},{\"type\":\"model\",\"name\":\"FastWrapper1\",\"properties\":[{\"name\":\"object\",\"kind\":\"Any\",\"default\":null},{\"name\":\"style\",\"kind\":\"Any\",\"default\":null}]},{\"type\":\"model\",\"name\":\"NotificationArea1\",\"properties\":[{\"name\":\"js_events\",\"kind\":\"Any\",\"default\":{\"type\":\"map\"}},{\"name\":\"max_notifications\",\"kind\":\"Any\",\"default\":5},{\"name\":\"notifications\",\"kind\":\"Any\",\"default\":[]},{\"name\":\"position\",\"kind\":\"Any\",\"default\":\"bottom-right\"},{\"name\":\"_clear\",\"kind\":\"Any\",\"default\":0},{\"name\":\"types\",\"kind\":\"Any\",\"default\":[{\"type\":\"map\",\"entries\":[[\"type\",\"warning\"],[\"background\",\"#ffc107\"],[\"icon\",{\"type\":\"map\",\"entries\":[[\"className\",\"fas fa-exclamation-triangle\"],[\"tagName\",\"i\"],[\"color\",\"white\"]]}]]},{\"type\":\"map\",\"entries\":[[\"type\",\"info\"],[\"background\",\"#007bff\"],[\"icon\",{\"type\":\"map\",\"entries\":[[\"className\",\"fas fa-info-circle\"],[\"tagName\",\"i\"],[\"color\",\"white\"]]}]]}]}]},{\"type\":\"model\",\"name\":\"Notification\",\"properties\":[{\"name\":\"background\",\"kind\":\"Any\",\"default\":null},{\"name\":\"duration\",\"kind\":\"Any\",\"default\":3000},{\"name\":\"icon\",\"kind\":\"Any\",\"default\":null},{\"name\":\"message\",\"kind\":\"Any\",\"default\":\"\"},{\"name\":\"notification_type\",\"kind\":\"Any\",\"default\":null},{\"name\":\"_rendered\",\"kind\":\"Any\",\"default\":false},{\"name\":\"_destroyed\",\"kind\":\"Any\",\"default\":false}]},{\"type\":\"model\",\"name\":\"TemplateActions1\",\"properties\":[{\"name\":\"open_modal\",\"kind\":\"Any\",\"default\":0},{\"name\":\"close_modal\",\"kind\":\"Any\",\"default\":0}]},{\"type\":\"model\",\"name\":\"BootstrapTemplateActions1\",\"properties\":[{\"name\":\"open_modal\",\"kind\":\"Any\",\"default\":0},{\"name\":\"close_modal\",\"kind\":\"Any\",\"default\":0}]},{\"type\":\"model\",\"name\":\"TemplateEditor1\",\"properties\":[{\"name\":\"layout\",\"kind\":\"Any\",\"default\":[]}]},{\"type\":\"model\",\"name\":\"MaterialTemplateActions1\",\"properties\":[{\"name\":\"open_modal\",\"kind\":\"Any\",\"default\":0},{\"name\":\"close_modal\",\"kind\":\"Any\",\"default\":0}]},{\"type\":\"model\",\"name\":\"request_value1\",\"properties\":[{\"name\":\"fill\",\"kind\":\"Any\",\"default\":\"none\"},{\"name\":\"_synced\",\"kind\":\"Any\",\"default\":null},{\"name\":\"_request_sync\",\"kind\":\"Any\",\"default\":0}]},{\"type\":\"model\",\"name\":\"holoviews.plotting.bokeh.raster.HoverModel\",\"properties\":[{\"name\":\"xy\",\"kind\":\"Any\",\"default\":null},{\"name\":\"data\",\"kind\":\"Any\",\"default\":null}]}]}};\n",
       "  var render_items = [{\"docid\":\"a1ff3455-fe9e-4193-a764-fc7376e8b828\",\"roots\":{\"96fd6958-08e3-4bfe-8106-5d919ed990d6\":\"c5d0ed89-196d-40fc-9c91-b30b5fbab88f\"},\"root_ids\":[\"96fd6958-08e3-4bfe-8106-5d919ed990d6\"]}];\n",
       "  var docs = Object.values(docs_json)\n",
       "  if (!docs) {\n",
       "    return\n",
       "  }\n",
       "  const py_version = docs[0].version.replace('rc', '-rc.').replace('.dev', '-dev.')\n",
       "  async function embed_document(root) {\n",
       "    var Bokeh = get_bokeh(root)\n",
       "    await Bokeh.embed.embed_items_notebook(docs_json, render_items);\n",
       "    for (const render_item of render_items) {\n",
       "      for (const root_id of render_item.root_ids) {\n",
       "\tconst id_el = document.getElementById(root_id)\n",
       "\tif (id_el.children.length && id_el.children[0].hasAttribute('data-root-id')) {\n",
       "\t  const root_el = id_el.children[0]\n",
       "\t  root_el.id = root_el.id + '-rendered'\n",
       "\t  for (const child of root_el.children) {\n",
       "            // Ensure JupyterLab does not capture keyboard shortcuts\n",
       "            // see: https://jupyterlab.readthedocs.io/en/4.1.x/extension/notebook.html#keyboard-interaction-model\n",
       "\t    child.setAttribute('data-lm-suppress-shortcuts', 'true')\n",
       "\t  }\n",
       "\t}\n",
       "      }\n",
       "    }\n",
       "  }\n",
       "  function get_bokeh(root) {\n",
       "    if (root.Bokeh === undefined) {\n",
       "      return null\n",
       "    } else if (root.Bokeh.version !== py_version) {\n",
       "      if (root.Bokeh.versions === undefined || !root.Bokeh.versions.has(py_version)) {\n",
       "\treturn null\n",
       "      }\n",
       "      return root.Bokeh.versions.get(py_version);\n",
       "    } else if (root.Bokeh.version === py_version) {\n",
       "      return root.Bokeh\n",
       "    }\n",
       "    return null\n",
       "  }\n",
       "  function is_loaded(root) {\n",
       "    var Bokeh = get_bokeh(root)\n",
       "    return (Bokeh != null && Bokeh.Panel !== undefined)\n",
       "  }\n",
       "  if (is_loaded(root)) {\n",
       "    embed_document(root);\n",
       "  } else {\n",
       "    var attempts = 0;\n",
       "    var timer = setInterval(function(root) {\n",
       "      if (is_loaded(root)) {\n",
       "        clearInterval(timer);\n",
       "        embed_document(root);\n",
       "      } else if (document.readyState == \"complete\") {\n",
       "        attempts++;\n",
       "        if (attempts > 200) {\n",
       "          clearInterval(timer);\n",
       "\t  var Bokeh = get_bokeh(root)\n",
       "\t  if (Bokeh == null || Bokeh.Panel == null) {\n",
       "            console.warn(\"Panel: ERROR: Unable to run Panel code because Bokeh or Panel library is missing\");\n",
       "\t  } else {\n",
       "\t    console.warn(\"Panel: WARNING: Attempting to render but not all required libraries could be resolved.\")\n",
       "\t    embed_document(root)\n",
       "\t  }\n",
       "        }\n",
       "      }\n",
       "    }, 25, root)\n",
       "  }\n",
       "})(window);</script>"
      ],
      "text/plain": [
       ":Bars   [Weekday]   (value)"
      ]
     },
     "execution_count": 58,
     "metadata": {
      "application/vnd.holoviews_exec.v0+json": {
       "id": "96fd6958-08e3-4bfe-8106-5d919ed990d6"
      }
     },
     "output_type": "execute_result"
    }
   ],
   "source": [
    "# Group by Weekday and mean, then plot\n",
    "hv.Bars(df_hourly[['value', 'Weekday']].groupby('Weekday', observed=False).mean()).opts(\n",
    "    opts.Bars(title=\"New York City Taxi Demand by Day\", xlabel=\"\", ylabel=\"Demand\",\n",
    "              width=700, height=300, tools=['hover'], show_grid=True))"
   ]
  },
  {
   "cell_type": "code",
   "execution_count": 59,
   "id": "aecf0b86",
   "metadata": {},
   "outputs": [
    {
     "data": {},
     "metadata": {},
     "output_type": "display_data"
    },
    {
     "data": {
      "application/vnd.holoviews_exec.v0+json": "",
      "text/html": [
       "<div id='aca1edc0-2d7d-4729-b044-b408deaa5c04'>\n",
       "  <div id=\"be5ee8f7-826e-4df3-9652-b6164ce51e81\" data-root-id=\"aca1edc0-2d7d-4729-b044-b408deaa5c04\" style=\"display: contents;\"></div>\n",
       "</div>\n",
       "<script type=\"application/javascript\">(function(root) {\n",
       "  var docs_json = {\"fbdbbe21-ed23-4475-8115-0e6b0056819b\":{\"version\":\"3.8.0\",\"title\":\"Bokeh Application\",\"config\":{\"type\":\"object\",\"name\":\"DocumentConfig\",\"id\":\"ca4707c8-a89c-4269-99a1-03a2013c0ee0\",\"attributes\":{\"notifications\":{\"type\":\"object\",\"name\":\"Notifications\",\"id\":\"33d07e9b-5601-4e3e-bb9d-2ceb9308a3c9\"}}},\"roots\":[{\"type\":\"object\",\"name\":\"Row\",\"id\":\"aca1edc0-2d7d-4729-b044-b408deaa5c04\",\"attributes\":{\"name\":\"Row01978\",\"tags\":[\"embedded\"],\"stylesheets\":[\"\\n:host(.pn-loading):before, .pn-loading:before {\\n  background-color: #c3c3c3;\\n  mask-size: auto calc(min(50%, 300px));\\n  -webkit-mask-size: auto calc(min(50%, 300px));\\n}\",{\"type\":\"object\",\"name\":\"ImportedStyleSheet\",\"id\":\"6b11d58e-d390-48e7-9a19-3d17ae589bbb\",\"attributes\":{\"url\":\"https://cdn.holoviz.org/panel/1.8.1/dist/css/loading.css\"}},{\"type\":\"object\",\"name\":\"ImportedStyleSheet\",\"id\":\"94f8b92d-b9fa-4686-a345-f20bb28fd51d\",\"attributes\":{\"url\":\"https://cdn.holoviz.org/panel/1.8.1/dist/css/listpanel.css\"}},{\"type\":\"object\",\"name\":\"ImportedStyleSheet\",\"id\":\"99fd7c05-ad97-4c9f-9eec-51c0e9f08572\",\"attributes\":{\"url\":\"https://cdn.holoviz.org/panel/1.8.1/dist/bundled/theme/default.css\"}},{\"type\":\"object\",\"name\":\"ImportedStyleSheet\",\"id\":\"39ff63ca-518a-4d57-8aa4-6c112cb0cbd1\",\"attributes\":{\"url\":\"https://cdn.holoviz.org/panel/1.8.1/dist/bundled/theme/native.css\"}}],\"min_width\":700,\"margin\":0,\"sizing_mode\":\"stretch_width\",\"align\":\"start\",\"children\":[{\"type\":\"object\",\"name\":\"Spacer\",\"id\":\"d9b5ecf5-ca99-464f-99dc-f0b875a8e93e\",\"attributes\":{\"name\":\"HSpacer01982\",\"stylesheets\":[\"\\n:host(.pn-loading):before, .pn-loading:before {\\n  background-color: #c3c3c3;\\n  mask-size: auto calc(min(50%, 300px));\\n  -webkit-mask-size: auto calc(min(50%, 300px));\\n}\",{\"id\":\"6b11d58e-d390-48e7-9a19-3d17ae589bbb\"},{\"id\":\"99fd7c05-ad97-4c9f-9eec-51c0e9f08572\"},{\"id\":\"39ff63ca-518a-4d57-8aa4-6c112cb0cbd1\"}],\"min_width\":0,\"margin\":0,\"sizing_mode\":\"stretch_width\",\"align\":\"start\"}},{\"type\":\"object\",\"name\":\"Figure\",\"id\":\"8d1aad57-fc5c-4015-8b28-be38d39a0e28\",\"attributes\":{\"width\":700,\"height\":300,\"margin\":[5,10],\"sizing_mode\":\"fixed\",\"align\":\"start\",\"x_range\":{\"type\":\"object\",\"name\":\"Range1d\",\"id\":\"cf1e06b5-5210-4819-8088-8c1b34145df5\",\"attributes\":{\"name\":\"Hour\",\"tags\":[[[\"Hour\",null]],[]],\"end\":23.0,\"reset_start\":0.0,\"reset_end\":23.0}},\"y_range\":{\"type\":\"object\",\"name\":\"Range1d\",\"id\":\"3e45726a-1b33-4882-860d-f512a1867770\",\"attributes\":{\"name\":\"value\",\"tags\":[[[\"value\",null]],{\"type\":\"map\",\"entries\":[[\"invert_yaxis\",false],[\"autorange\",false]]}],\"start\":1652.6383720930228,\"end\":24822.643023255816,\"reset_start\":1652.6383720930228,\"reset_end\":24822.643023255816}},\"x_scale\":{\"type\":\"object\",\"name\":\"LinearScale\",\"id\":\"4b827fc4-b8a6-430d-8cb3-5a9734672b8c\"},\"y_scale\":{\"type\":\"object\",\"name\":\"LinearScale\",\"id\":\"f12f0234-ea35-4eaa-b1c8-431ed49a8e0b\"},\"title\":{\"type\":\"object\",\"name\":\"Title\",\"id\":\"ce140eb5-e77e-437f-a5b1-746aee3dfa8e\",\"attributes\":{\"text\":\"New York City Taxi Demand Hourly\",\"text_color\":\"black\",\"text_font_size\":\"12pt\"}},\"renderers\":[{\"type\":\"object\",\"name\":\"GlyphRenderer\",\"id\":\"087c60a8-02ed-4465-820c-9035d1337d91\",\"attributes\":{\"data_source\":{\"type\":\"object\",\"name\":\"ColumnDataSource\",\"id\":\"0399e6f7-ca61-477a-92db-ebfc3168895c\",\"attributes\":{\"selected\":{\"type\":\"object\",\"name\":\"Selection\",\"id\":\"55b4f417-1547-4653-ace0-e3770edd8a31\",\"attributes\":{\"indices\":[],\"line_indices\":[]}},\"selection_policy\":{\"type\":\"object\",\"name\":\"UnionRenderers\",\"id\":\"3d4967c4-8de0-4d23-9df9-640965a23200\"},\"data\":{\"type\":\"map\",\"entries\":[[\"Hour\",{\"type\":\"ndarray\",\"array\":{\"type\":\"bytes\",\"data\":\"H4sIAAEAAAAC/w3DBw6AIBAAsEMcuAeO///UNmlERLIx29rZO1gcnZxdXN3cPTy9rN4+vn7+y9u6GmAAAAA=\"},\"shape\":[24],\"dtype\":\"int32\",\"order\":\"little\"}],[\"value\",{\"type\":\"ndarray\",\"array\":{\"type\":\"bytes\",\"data\":\"H4sIAAEAAAAC/1O33FAiNPOMw07ldx3Wpkcdbqx1qoj12u/wqG+Hct6qbQ7Fld/MxVdscJC219328d9qhwviX1j/1u1xeL/Q46uc8Qmw+rtfzjokvFRhn+Z13uGYWV3UmsLzDt7qQIM7LzgU6J3/p5Z60eHATpvft+MvgtXX/r/ocOh1mKKN1UWHq9UaQbY5Z8H2z1580WGqaarvzYirDra/Z5/+HHXNYW+70tXfglcdJr6yFdH8ecWht43zhEf6FYcajaC96oqXHACWJ8g/wAAAAA==\"},\"shape\":[24],\"dtype\":\"float64\",\"order\":\"little\"}]]}}},\"view\":{\"type\":\"object\",\"name\":\"CDSView\",\"id\":\"30826d52-d347-41e8-9844-0e1f1d5b3836\",\"attributes\":{\"filter\":{\"type\":\"object\",\"name\":\"AllIndices\",\"id\":\"4cf5e00b-cc45-4d60-a645-766f41e9e22d\"}}},\"glyph\":{\"type\":\"object\",\"name\":\"Line\",\"id\":\"04635236-92d9-496c-a02f-eb64c0222888\",\"attributes\":{\"tags\":[\"apply_ranges\"],\"x\":{\"type\":\"field\",\"field\":\"Hour\"},\"y\":{\"type\":\"field\",\"field\":\"value\"},\"line_color\":\"#30a2da\",\"line_width\":2}},\"selection_glyph\":{\"type\":\"object\",\"name\":\"Line\",\"id\":\"0c701baa-f6a1-4385-aa3b-eb76ba3cefad\",\"attributes\":{\"tags\":[\"apply_ranges\"],\"x\":{\"type\":\"field\",\"field\":\"Hour\"},\"y\":{\"type\":\"field\",\"field\":\"value\"},\"line_color\":\"#30a2da\",\"line_width\":2}},\"nonselection_glyph\":{\"type\":\"object\",\"name\":\"Line\",\"id\":\"e7d8156e-5d62-425c-af2d-0af64d013003\",\"attributes\":{\"tags\":[\"apply_ranges\"],\"x\":{\"type\":\"field\",\"field\":\"Hour\"},\"y\":{\"type\":\"field\",\"field\":\"value\"},\"line_color\":\"#30a2da\",\"line_alpha\":0.1,\"line_width\":2}},\"muted_glyph\":{\"type\":\"object\",\"name\":\"Line\",\"id\":\"faae5535-57e6-4676-b55a-a4cd644d4d47\",\"attributes\":{\"tags\":[\"apply_ranges\"],\"x\":{\"type\":\"field\",\"field\":\"Hour\"},\"y\":{\"type\":\"field\",\"field\":\"value\"},\"line_color\":\"#30a2da\",\"line_alpha\":0.2,\"line_width\":2}}}}],\"toolbar\":{\"type\":\"object\",\"name\":\"Toolbar\",\"id\":\"71f99531-8f58-42e5-9715-2551927c4659\",\"attributes\":{\"tools\":[{\"type\":\"object\",\"name\":\"WheelZoomTool\",\"id\":\"dcd0bc78-e338-481e-a66a-216b0503d3c8\",\"attributes\":{\"tags\":[\"hv_created\"],\"renderers\":\"auto\",\"zoom_together\":\"none\"}},{\"type\":\"object\",\"name\":\"HoverTool\",\"id\":\"8f445719-43bd-4cea-984c-fb2c1a758973\",\"attributes\":{\"tags\":[\"hv_created\"],\"renderers\":[{\"id\":\"087c60a8-02ed-4465-820c-9035d1337d91\"}],\"tooltips\":[[\"Hour\",\"@{Hour}\"],[\"value\",\"@{value}\"]],\"sort_by\":null}},{\"type\":\"object\",\"name\":\"SaveTool\",\"id\":\"e9814e3e-ec6b-4759-981a-bc46e8606829\"},{\"type\":\"object\",\"name\":\"PanTool\",\"id\":\"c34b435a-418e-4544-8227-6d73cd0d0fb0\"},{\"type\":\"object\",\"name\":\"BoxZoomTool\",\"id\":\"8940623e-984a-499d-a234-ba38b8af3095\",\"attributes\":{\"dimensions\":\"both\",\"overlay\":{\"type\":\"object\",\"name\":\"BoxAnnotation\",\"id\":\"98d94e3a-972f-4011-9bde-63a0c02ef4f1\",\"attributes\":{\"syncable\":false,\"line_color\":\"black\",\"line_alpha\":1.0,\"line_width\":2,\"line_dash\":[4,4],\"fill_color\":\"lightgrey\",\"fill_alpha\":0.5,\"level\":\"overlay\",\"visible\":false,\"left\":{\"type\":\"number\",\"value\":\"nan\"},\"right\":{\"type\":\"number\",\"value\":\"nan\"},\"top\":{\"type\":\"number\",\"value\":\"nan\"},\"bottom\":{\"type\":\"number\",\"value\":\"nan\"},\"left_units\":\"canvas\",\"right_units\":\"canvas\",\"top_units\":\"canvas\",\"bottom_units\":\"canvas\",\"handles\":{\"type\":\"object\",\"name\":\"BoxInteractionHandles\",\"id\":\"39a56fd8-94f2-461b-ab11-d04bcea6c3c8\",\"attributes\":{\"all\":{\"type\":\"object\",\"name\":\"AreaVisuals\",\"id\":\"6317babf-f7b2-46d9-bb14-94c08ce76287\",\"attributes\":{\"fill_color\":\"white\",\"hover_fill_color\":\"lightgray\"}}}}}}}},{\"type\":\"object\",\"name\":\"ResetTool\",\"id\":\"5f7bb451-4083-476d-a018-566694d5f10a\"}],\"active_drag\":{\"id\":\"c34b435a-418e-4544-8227-6d73cd0d0fb0\"},\"active_scroll\":{\"id\":\"dcd0bc78-e338-481e-a66a-216b0503d3c8\"}}},\"left\":[{\"type\":\"object\",\"name\":\"LinearAxis\",\"id\":\"03f36882-e815-48a3-ba5e-625a15a4a6fc\",\"attributes\":{\"ticker\":{\"type\":\"object\",\"name\":\"BasicTicker\",\"id\":\"f1c61af8-ac1f-4788-b37c-9968d4b2e8d0\",\"attributes\":{\"mantissas\":[1,2,5]}},\"formatter\":{\"type\":\"object\",\"name\":\"BasicTickFormatter\",\"id\":\"e6ce905f-06e9-4608-93f2-c0a5a2a9a559\"},\"axis_label\":\"Demand\",\"major_label_policy\":{\"type\":\"object\",\"name\":\"AllLabels\",\"id\":\"c061cd9a-e0e8-4d49-beb1-ba846654714f\"}}}],\"below\":[{\"type\":\"object\",\"name\":\"LinearAxis\",\"id\":\"9de2760c-0d3a-4b18-bc93-35fb870a1b4c\",\"attributes\":{\"ticker\":{\"type\":\"object\",\"name\":\"BasicTicker\",\"id\":\"5ff4c02c-d911-4c9a-bd08-01ae5ba8bba5\",\"attributes\":{\"mantissas\":[1,2,5]}},\"formatter\":{\"type\":\"object\",\"name\":\"BasicTickFormatter\",\"id\":\"4d67a64f-83ff-420d-8916-15e9f3686f4b\"},\"axis_label\":\"Hour\",\"major_label_policy\":{\"type\":\"object\",\"name\":\"AllLabels\",\"id\":\"b4d0bdc0-3b3e-480b-b10b-6f8e32e27258\"}}}],\"center\":[{\"type\":\"object\",\"name\":\"Grid\",\"id\":\"26f1c990-6e6b-4191-be15-11a7d1756e3c\",\"attributes\":{\"axis\":{\"id\":\"9de2760c-0d3a-4b18-bc93-35fb870a1b4c\"},\"ticker\":{\"id\":\"5ff4c02c-d911-4c9a-bd08-01ae5ba8bba5\"}}},{\"type\":\"object\",\"name\":\"Grid\",\"id\":\"1b3b82d1-e250-45dc-b178-bc0c412d81bf\",\"attributes\":{\"dimension\":1,\"axis\":{\"id\":\"03f36882-e815-48a3-ba5e-625a15a4a6fc\"},\"ticker\":{\"id\":\"f1c61af8-ac1f-4788-b37c-9968d4b2e8d0\"}}}],\"min_border_top\":10,\"min_border_bottom\":10,\"min_border_left\":10,\"min_border_right\":10,\"output_backend\":\"webgl\"}},{\"type\":\"object\",\"name\":\"Spacer\",\"id\":\"89982cff-b96e-4668-8d45-e521e4a37298\",\"attributes\":{\"name\":\"HSpacer01983\",\"stylesheets\":[\"\\n:host(.pn-loading):before, .pn-loading:before {\\n  background-color: #c3c3c3;\\n  mask-size: auto calc(min(50%, 300px));\\n  -webkit-mask-size: auto calc(min(50%, 300px));\\n}\",{\"id\":\"6b11d58e-d390-48e7-9a19-3d17ae589bbb\"},{\"id\":\"99fd7c05-ad97-4c9f-9eec-51c0e9f08572\"},{\"id\":\"39ff63ca-518a-4d57-8aa4-6c112cb0cbd1\"}],\"min_width\":0,\"margin\":0,\"sizing_mode\":\"stretch_width\",\"align\":\"start\"}}]}}],\"defs\":[{\"type\":\"model\",\"name\":\"ReactiveHTML1\"},{\"type\":\"model\",\"name\":\"FlexBox1\",\"properties\":[{\"name\":\"align_content\",\"kind\":\"Any\",\"default\":\"flex-start\"},{\"name\":\"align_items\",\"kind\":\"Any\",\"default\":\"flex-start\"},{\"name\":\"flex_direction\",\"kind\":\"Any\",\"default\":\"row\"},{\"name\":\"flex_wrap\",\"kind\":\"Any\",\"default\":\"wrap\"},{\"name\":\"gap\",\"kind\":\"Any\",\"default\":\"\"},{\"name\":\"justify_content\",\"kind\":\"Any\",\"default\":\"flex-start\"}]},{\"type\":\"model\",\"name\":\"FloatPanel1\",\"properties\":[{\"name\":\"config\",\"kind\":\"Any\",\"default\":{\"type\":\"map\"}},{\"name\":\"contained\",\"kind\":\"Any\",\"default\":true},{\"name\":\"position\",\"kind\":\"Any\",\"default\":\"right-top\"},{\"name\":\"offsetx\",\"kind\":\"Any\",\"default\":null},{\"name\":\"offsety\",\"kind\":\"Any\",\"default\":null},{\"name\":\"theme\",\"kind\":\"Any\",\"default\":\"primary\"},{\"name\":\"status\",\"kind\":\"Any\",\"default\":\"normalized\"}]},{\"type\":\"model\",\"name\":\"GridStack1\",\"properties\":[{\"name\":\"ncols\",\"kind\":\"Any\",\"default\":null},{\"name\":\"nrows\",\"kind\":\"Any\",\"default\":null},{\"name\":\"allow_resize\",\"kind\":\"Any\",\"default\":true},{\"name\":\"allow_drag\",\"kind\":\"Any\",\"default\":true},{\"name\":\"state\",\"kind\":\"Any\",\"default\":[]}]},{\"type\":\"model\",\"name\":\"drag1\",\"properties\":[{\"name\":\"slider_width\",\"kind\":\"Any\",\"default\":5},{\"name\":\"slider_color\",\"kind\":\"Any\",\"default\":\"black\"},{\"name\":\"start\",\"kind\":\"Any\",\"default\":0},{\"name\":\"end\",\"kind\":\"Any\",\"default\":100},{\"name\":\"value\",\"kind\":\"Any\",\"default\":50}]},{\"type\":\"model\",\"name\":\"click1\",\"properties\":[{\"name\":\"terminal_output\",\"kind\":\"Any\",\"default\":\"\"},{\"name\":\"debug_name\",\"kind\":\"Any\",\"default\":\"\"},{\"name\":\"clears\",\"kind\":\"Any\",\"default\":0}]},{\"type\":\"model\",\"name\":\"ReactiveESM1\",\"properties\":[{\"name\":\"esm_constants\",\"kind\":\"Any\",\"default\":{\"type\":\"map\"}}]},{\"type\":\"model\",\"name\":\"JSComponent1\",\"properties\":[{\"name\":\"esm_constants\",\"kind\":\"Any\",\"default\":{\"type\":\"map\"}}]},{\"type\":\"model\",\"name\":\"ReactComponent1\",\"properties\":[{\"name\":\"use_shadow_dom\",\"kind\":\"Any\",\"default\":true},{\"name\":\"esm_constants\",\"kind\":\"Any\",\"default\":{\"type\":\"map\"}}]},{\"type\":\"model\",\"name\":\"AnyWidgetComponent1\",\"properties\":[{\"name\":\"use_shadow_dom\",\"kind\":\"Any\",\"default\":true},{\"name\":\"esm_constants\",\"kind\":\"Any\",\"default\":{\"type\":\"map\"}}]},{\"type\":\"model\",\"name\":\"FastWrapper1\",\"properties\":[{\"name\":\"object\",\"kind\":\"Any\",\"default\":null},{\"name\":\"style\",\"kind\":\"Any\",\"default\":null}]},{\"type\":\"model\",\"name\":\"NotificationArea1\",\"properties\":[{\"name\":\"js_events\",\"kind\":\"Any\",\"default\":{\"type\":\"map\"}},{\"name\":\"max_notifications\",\"kind\":\"Any\",\"default\":5},{\"name\":\"notifications\",\"kind\":\"Any\",\"default\":[]},{\"name\":\"position\",\"kind\":\"Any\",\"default\":\"bottom-right\"},{\"name\":\"_clear\",\"kind\":\"Any\",\"default\":0},{\"name\":\"types\",\"kind\":\"Any\",\"default\":[{\"type\":\"map\",\"entries\":[[\"type\",\"warning\"],[\"background\",\"#ffc107\"],[\"icon\",{\"type\":\"map\",\"entries\":[[\"className\",\"fas fa-exclamation-triangle\"],[\"tagName\",\"i\"],[\"color\",\"white\"]]}]]},{\"type\":\"map\",\"entries\":[[\"type\",\"info\"],[\"background\",\"#007bff\"],[\"icon\",{\"type\":\"map\",\"entries\":[[\"className\",\"fas fa-info-circle\"],[\"tagName\",\"i\"],[\"color\",\"white\"]]}]]}]}]},{\"type\":\"model\",\"name\":\"Notification\",\"properties\":[{\"name\":\"background\",\"kind\":\"Any\",\"default\":null},{\"name\":\"duration\",\"kind\":\"Any\",\"default\":3000},{\"name\":\"icon\",\"kind\":\"Any\",\"default\":null},{\"name\":\"message\",\"kind\":\"Any\",\"default\":\"\"},{\"name\":\"notification_type\",\"kind\":\"Any\",\"default\":null},{\"name\":\"_rendered\",\"kind\":\"Any\",\"default\":false},{\"name\":\"_destroyed\",\"kind\":\"Any\",\"default\":false}]},{\"type\":\"model\",\"name\":\"TemplateActions1\",\"properties\":[{\"name\":\"open_modal\",\"kind\":\"Any\",\"default\":0},{\"name\":\"close_modal\",\"kind\":\"Any\",\"default\":0}]},{\"type\":\"model\",\"name\":\"BootstrapTemplateActions1\",\"properties\":[{\"name\":\"open_modal\",\"kind\":\"Any\",\"default\":0},{\"name\":\"close_modal\",\"kind\":\"Any\",\"default\":0}]},{\"type\":\"model\",\"name\":\"TemplateEditor1\",\"properties\":[{\"name\":\"layout\",\"kind\":\"Any\",\"default\":[]}]},{\"type\":\"model\",\"name\":\"MaterialTemplateActions1\",\"properties\":[{\"name\":\"open_modal\",\"kind\":\"Any\",\"default\":0},{\"name\":\"close_modal\",\"kind\":\"Any\",\"default\":0}]},{\"type\":\"model\",\"name\":\"request_value1\",\"properties\":[{\"name\":\"fill\",\"kind\":\"Any\",\"default\":\"none\"},{\"name\":\"_synced\",\"kind\":\"Any\",\"default\":null},{\"name\":\"_request_sync\",\"kind\":\"Any\",\"default\":0}]},{\"type\":\"model\",\"name\":\"holoviews.plotting.bokeh.raster.HoverModel\",\"properties\":[{\"name\":\"xy\",\"kind\":\"Any\",\"default\":null},{\"name\":\"data\",\"kind\":\"Any\",\"default\":null}]}]}};\n",
       "  var render_items = [{\"docid\":\"fbdbbe21-ed23-4475-8115-0e6b0056819b\",\"roots\":{\"aca1edc0-2d7d-4729-b044-b408deaa5c04\":\"be5ee8f7-826e-4df3-9652-b6164ce51e81\"},\"root_ids\":[\"aca1edc0-2d7d-4729-b044-b408deaa5c04\"]}];\n",
       "  var docs = Object.values(docs_json)\n",
       "  if (!docs) {\n",
       "    return\n",
       "  }\n",
       "  const py_version = docs[0].version.replace('rc', '-rc.').replace('.dev', '-dev.')\n",
       "  async function embed_document(root) {\n",
       "    var Bokeh = get_bokeh(root)\n",
       "    await Bokeh.embed.embed_items_notebook(docs_json, render_items);\n",
       "    for (const render_item of render_items) {\n",
       "      for (const root_id of render_item.root_ids) {\n",
       "\tconst id_el = document.getElementById(root_id)\n",
       "\tif (id_el.children.length && id_el.children[0].hasAttribute('data-root-id')) {\n",
       "\t  const root_el = id_el.children[0]\n",
       "\t  root_el.id = root_el.id + '-rendered'\n",
       "\t  for (const child of root_el.children) {\n",
       "            // Ensure JupyterLab does not capture keyboard shortcuts\n",
       "            // see: https://jupyterlab.readthedocs.io/en/4.1.x/extension/notebook.html#keyboard-interaction-model\n",
       "\t    child.setAttribute('data-lm-suppress-shortcuts', 'true')\n",
       "\t  }\n",
       "\t}\n",
       "      }\n",
       "    }\n",
       "  }\n",
       "  function get_bokeh(root) {\n",
       "    if (root.Bokeh === undefined) {\n",
       "      return null\n",
       "    } else if (root.Bokeh.version !== py_version) {\n",
       "      if (root.Bokeh.versions === undefined || !root.Bokeh.versions.has(py_version)) {\n",
       "\treturn null\n",
       "      }\n",
       "      return root.Bokeh.versions.get(py_version);\n",
       "    } else if (root.Bokeh.version === py_version) {\n",
       "      return root.Bokeh\n",
       "    }\n",
       "    return null\n",
       "  }\n",
       "  function is_loaded(root) {\n",
       "    var Bokeh = get_bokeh(root)\n",
       "    return (Bokeh != null && Bokeh.Panel !== undefined)\n",
       "  }\n",
       "  if (is_loaded(root)) {\n",
       "    embed_document(root);\n",
       "  } else {\n",
       "    var attempts = 0;\n",
       "    var timer = setInterval(function(root) {\n",
       "      if (is_loaded(root)) {\n",
       "        clearInterval(timer);\n",
       "        embed_document(root);\n",
       "      } else if (document.readyState == \"complete\") {\n",
       "        attempts++;\n",
       "        if (attempts > 200) {\n",
       "          clearInterval(timer);\n",
       "\t  var Bokeh = get_bokeh(root)\n",
       "\t  if (Bokeh == null || Bokeh.Panel == null) {\n",
       "            console.warn(\"Panel: ERROR: Unable to run Panel code because Bokeh or Panel library is missing\");\n",
       "\t  } else {\n",
       "\t    console.warn(\"Panel: WARNING: Attempting to render but not all required libraries could be resolved.\")\n",
       "\t    embed_document(root)\n",
       "\t  }\n",
       "        }\n",
       "      }\n",
       "    }, 25, root)\n",
       "  }\n",
       "})(window);</script>"
      ],
      "text/plain": [
       ":Curve   [Hour]   (value)"
      ]
     },
     "execution_count": 59,
     "metadata": {
      "application/vnd.holoviews_exec.v0+json": {
       "id": "aca1edc0-2d7d-4729-b044-b408deaa5c04"
      }
     },
     "output_type": "execute_result"
    }
   ],
   "source": [
    "hv.Curve(df_hourly[['value','Hour']].groupby('Hour').mean()).opts(\n",
    "    opts.Curve(title=\"New York City Taxi Demand Hourly\", xlabel=\"Hour\", ylabel=\"Demand\",\n",
    "               width=700, height=300,tools=['hover'],show_grid=True))"
   ]
  },
  {
   "cell_type": "code",
   "execution_count": 64,
   "id": "fa6f746d",
   "metadata": {},
   "outputs": [
    {
     "data": {},
     "metadata": {},
     "output_type": "display_data"
    },
    {
     "data": {
      "application/vnd.holoviews_exec.v0+json": "",
      "text/html": [
       "<div id='3fffbe73-e649-4bf0-9e31-61609e7db27a'>\n",
       "  <div id=\"e9df583a-946f-49ca-b04f-4825ae419372\" data-root-id=\"3fffbe73-e649-4bf0-9e31-61609e7db27a\" style=\"display: contents;\"></div>\n",
       "</div>\n",
       "<script type=\"application/javascript\">(function(root) {\n",
       "  var docs_json = {\"3c049938-4df9-4794-a63c-2d4535bf73f6\":{\"version\":\"3.8.0\",\"title\":\"Bokeh Application\",\"config\":{\"type\":\"object\",\"name\":\"DocumentConfig\",\"id\":\"4cf340d2-bebf-4b74-8320-82a6bd2cf9c6\",\"attributes\":{\"notifications\":{\"type\":\"object\",\"name\":\"Notifications\",\"id\":\"81b4bbc1-93c7-4989-aee0-ef66c11b3261\"}}},\"roots\":[{\"type\":\"object\",\"name\":\"Row\",\"id\":\"3fffbe73-e649-4bf0-9e31-61609e7db27a\",\"attributes\":{\"name\":\"Row02569\",\"tags\":[\"embedded\"],\"stylesheets\":[\"\\n:host(.pn-loading):before, .pn-loading:before {\\n  background-color: #c3c3c3;\\n  mask-size: auto calc(min(50%, 300px));\\n  -webkit-mask-size: auto calc(min(50%, 300px));\\n}\",{\"type\":\"object\",\"name\":\"ImportedStyleSheet\",\"id\":\"00ba6a44-798e-41de-a9e6-f8de73bf8fc3\",\"attributes\":{\"url\":\"https://cdn.holoviz.org/panel/1.8.1/dist/css/loading.css\"}},{\"type\":\"object\",\"name\":\"ImportedStyleSheet\",\"id\":\"300dbd7c-59ad-4a5a-a4bd-fc8cc0d7ddaa\",\"attributes\":{\"url\":\"https://cdn.holoviz.org/panel/1.8.1/dist/css/listpanel.css\"}},{\"type\":\"object\",\"name\":\"ImportedStyleSheet\",\"id\":\"a4bf5e09-a488-4a83-b7ef-20a7f1d80ce5\",\"attributes\":{\"url\":\"https://cdn.holoviz.org/panel/1.8.1/dist/bundled/theme/default.css\"}},{\"type\":\"object\",\"name\":\"ImportedStyleSheet\",\"id\":\"c5b086cf-3004-41c2-a140-51d613452c3a\",\"attributes\":{\"url\":\"https://cdn.holoviz.org/panel/1.8.1/dist/bundled/theme/native.css\"}}],\"min_width\":800,\"margin\":0,\"sizing_mode\":\"stretch_width\",\"align\":\"start\",\"children\":[{\"type\":\"object\",\"name\":\"Spacer\",\"id\":\"190618d1-1706-4b71-a8d2-0f0bf4daa5c9\",\"attributes\":{\"name\":\"HSpacer02573\",\"stylesheets\":[\"\\n:host(.pn-loading):before, .pn-loading:before {\\n  background-color: #c3c3c3;\\n  mask-size: auto calc(min(50%, 300px));\\n  -webkit-mask-size: auto calc(min(50%, 300px));\\n}\",{\"id\":\"00ba6a44-798e-41de-a9e6-f8de73bf8fc3\"},{\"id\":\"a4bf5e09-a488-4a83-b7ef-20a7f1d80ce5\"},{\"id\":\"c5b086cf-3004-41c2-a140-51d613452c3a\"}],\"min_width\":0,\"margin\":0,\"sizing_mode\":\"stretch_width\",\"align\":\"start\"}},{\"type\":\"object\",\"name\":\"Figure\",\"id\":\"f6a463d3-e2ea-4858-9702-41651c6440a4\",\"attributes\":{\"width\":800,\"height\":300,\"margin\":[5,10],\"sizing_mode\":\"fixed\",\"align\":\"start\",\"x_range\":{\"type\":\"object\",\"name\":\"Range1d\",\"id\":\"d4ae1aca-ee45-4fd0-8f47-a41a9e5e2d30\",\"attributes\":{\"name\":\"Hour\",\"tags\":[[[\"Hour\",null]],[]],\"end\":23.0,\"reset_start\":0.0,\"reset_end\":23.0}},\"y_range\":{\"type\":\"object\",\"name\":\"Range1d\",\"id\":\"9b1e0ef8-2369-4f97-8b42-3ffcada04aa1\",\"attributes\":{\"name\":\"Monday\",\"tags\":[[[\"Monday\",null]],{\"type\":\"map\",\"entries\":[[\"invert_yaxis\",false],[\"autorange\",false]]}],\"start\":-284.86774193548376,\"end\":27508.64193548387,\"reset_start\":-284.86774193548376,\"reset_end\":27508.64193548387}},\"x_scale\":{\"type\":\"object\",\"name\":\"LinearScale\",\"id\":\"7fedf127-3cb3-4e02-9152-12cd8eca6e87\"},\"y_scale\":{\"type\":\"object\",\"name\":\"LinearScale\",\"id\":\"5093f012-331c-41f3-a804-3bf776512ead\"},\"title\":{\"type\":\"object\",\"name\":\"Title\",\"id\":\"98815dcf-42a6-4278-9c62-104029d40453\",\"attributes\":{\"text\":\"Average Demand by Day & Hour\",\"text_color\":\"black\",\"text_font_size\":\"12pt\"}},\"renderers\":[{\"type\":\"object\",\"name\":\"GlyphRenderer\",\"id\":\"3e124a63-33ba-4f36-9992-2338f4d97889\",\"attributes\":{\"name\":\"Monday\",\"data_source\":{\"type\":\"object\",\"name\":\"ColumnDataSource\",\"id\":\"c8f44b02-3a8f-419c-8d00-0d20032c2735\",\"attributes\":{\"selected\":{\"type\":\"object\",\"name\":\"Selection\",\"id\":\"e5d1c4d2-bffa-4907-be93-cf437fcfa757\",\"attributes\":{\"indices\":[],\"line_indices\":[]}},\"selection_policy\":{\"type\":\"object\",\"name\":\"UnionRenderers\",\"id\":\"5620aab5-60cd-4a08-8636-6f0bf19eb55d\"},\"data\":{\"type\":\"map\",\"entries\":[[\"Hour\",{\"type\":\"ndarray\",\"array\":{\"type\":\"bytes\",\"data\":\"H4sIAAEAAAAC/w3DBw6AIBAAsEMcuAeO///UNmlERLIx29rZO1gcnZxdXN3cPTy9rN4+vn7+y9u6GmAAAAA=\"},\"shape\":[24],\"dtype\":\"int32\",\"order\":\"little\"}],[\"Monday\",{\"type\":\"ndarray\",\"array\":{\"type\":\"bytes\",\"data\":\"H4sIAAEAAAAC/+vs6OjwCNnvwAAEB3o3OcyaCQTZKxxcQEBtoUMoCHQtgojvXe3QCVKff8BBCQiSPE47vH/37t28xAtg+p4EhM7rO+uQBgTP+M+B+Xzd58H6JdeddygHAvXjF8D6L+VfcLh39+7dvz/OgNW3+VwEq+vceAVM/zx4xUEQCAyzLoPlw/Zfcjh75syZNycvgN3bIH/SAQCxIEhWwAAAAA==\"},\"shape\":[24],\"dtype\":\"float64\",\"order\":\"little\"}]]}}},\"view\":{\"type\":\"object\",\"name\":\"CDSView\",\"id\":\"6fcb5edb-fdca-48c1-88f6-d9cc18ef5091\",\"attributes\":{\"filter\":{\"type\":\"object\",\"name\":\"AllIndices\",\"id\":\"e7c1fcc5-9d72-40e1-a8db-8aaaec4a4ba8\"}}},\"glyph\":{\"type\":\"object\",\"name\":\"Line\",\"id\":\"91fc79d8-001e-4d1b-b118-b84d4347f749\",\"attributes\":{\"tags\":[\"apply_ranges\"],\"x\":{\"type\":\"field\",\"field\":\"Hour\"},\"y\":{\"type\":\"field\",\"field\":\"Monday\"},\"line_color\":\"#30a2da\",\"line_width\":2}},\"selection_glyph\":{\"type\":\"object\",\"name\":\"Line\",\"id\":\"1da15a0d-880e-4ff6-849c-fe278f775ef2\",\"attributes\":{\"tags\":[\"apply_ranges\"],\"x\":{\"type\":\"field\",\"field\":\"Hour\"},\"y\":{\"type\":\"field\",\"field\":\"Monday\"},\"line_color\":\"#30a2da\",\"line_width\":2}},\"nonselection_glyph\":{\"type\":\"object\",\"name\":\"Line\",\"id\":\"f29a39e1-345c-4d3c-9bfa-98a52081208a\",\"attributes\":{\"tags\":[\"apply_ranges\"],\"x\":{\"type\":\"field\",\"field\":\"Hour\"},\"y\":{\"type\":\"field\",\"field\":\"Monday\"},\"line_color\":\"#30a2da\",\"line_alpha\":0.1,\"line_width\":2}},\"muted_glyph\":{\"type\":\"object\",\"name\":\"Line\",\"id\":\"a0a19be3-d3e5-40b0-a35b-89a59540e74b\",\"attributes\":{\"tags\":[\"apply_ranges\"],\"x\":{\"type\":\"field\",\"field\":\"Hour\"},\"y\":{\"type\":\"field\",\"field\":\"Monday\"},\"line_color\":\"#30a2da\",\"line_alpha\":0.2,\"line_width\":2}}}},{\"type\":\"object\",\"name\":\"GlyphRenderer\",\"id\":\"257673a5-71e9-442a-a1ec-7347964f69c0\",\"attributes\":{\"name\":\"Tuesday\",\"data_source\":{\"type\":\"object\",\"name\":\"ColumnDataSource\",\"id\":\"3897da56-792f-49c6-9796-01659472b7b7\",\"attributes\":{\"selected\":{\"type\":\"object\",\"name\":\"Selection\",\"id\":\"8f4477af-c05a-435b-874f-d737d09ad759\",\"attributes\":{\"indices\":[],\"line_indices\":[]}},\"selection_policy\":{\"type\":\"object\",\"name\":\"UnionRenderers\",\"id\":\"af0c9537-bdd3-418f-99b4-80e28048ec3a\"},\"data\":{\"type\":\"map\",\"entries\":[[\"Hour\",{\"type\":\"ndarray\",\"array\":{\"type\":\"bytes\",\"data\":\"H4sIAAEAAAAC/w3DBw6AIBAAsEMcuAeO///UNmlERLIx29rZO1gcnZxdXN3cPTy9rN4+vn7+y9u6GmAAAAA=\"},\"shape\":[24],\"dtype\":\"int32\",\"order\":\"little\"}],[\"Tuesday\",{\"type\":\"ndarray\",\"array\":{\"type\":\"bytes\",\"data\":\"H4sIAAEAAAAC/8teu/XarYkHHI5JJPcYLtns8HxO8TnLG8sdvDSXTgm6N99BsUXAiWPvfIdt16Ky1/KtdDhn+XyO8YEDDjXv936Pe3nWAUjdkxa65JANNKcq+aIDSFvX7fMQ+f3nHSSBxh5bdsHBCmRwywUHIE/icMtFsLzcwgsOc4HWpbucdgApi+C9CFaftu2qAwfQ4qb51xzuVwMVtlx12Pf9XvX6k1cdQM5JZLgC4a857wAAH/YsA8AAAAA=\"},\"shape\":[24],\"dtype\":\"float64\",\"order\":\"little\"}]]}}},\"view\":{\"type\":\"object\",\"name\":\"CDSView\",\"id\":\"92c7ec42-869b-46fa-a10a-d421b984ce58\",\"attributes\":{\"filter\":{\"type\":\"object\",\"name\":\"AllIndices\",\"id\":\"a0b4a7f5-d803-40ad-a0ae-efff01261b5f\"}}},\"glyph\":{\"type\":\"object\",\"name\":\"Line\",\"id\":\"7fa0fdba-0cec-4aee-9b65-e3e3e1d974a4\",\"attributes\":{\"tags\":[\"apply_ranges\"],\"x\":{\"type\":\"field\",\"field\":\"Hour\"},\"y\":{\"type\":\"field\",\"field\":\"Tuesday\"},\"line_color\":\"#fc4f30\",\"line_width\":2}},\"selection_glyph\":{\"type\":\"object\",\"name\":\"Line\",\"id\":\"3ea57631-46f7-407c-b857-e64068c91584\",\"attributes\":{\"tags\":[\"apply_ranges\"],\"x\":{\"type\":\"field\",\"field\":\"Hour\"},\"y\":{\"type\":\"field\",\"field\":\"Tuesday\"},\"line_color\":\"#fc4f30\",\"line_width\":2}},\"nonselection_glyph\":{\"type\":\"object\",\"name\":\"Line\",\"id\":\"1dfbbb63-4aa7-48c0-ab75-361b5a92ffda\",\"attributes\":{\"tags\":[\"apply_ranges\"],\"x\":{\"type\":\"field\",\"field\":\"Hour\"},\"y\":{\"type\":\"field\",\"field\":\"Tuesday\"},\"line_color\":\"#fc4f30\",\"line_alpha\":0.1,\"line_width\":2}},\"muted_glyph\":{\"type\":\"object\",\"name\":\"Line\",\"id\":\"b58b763e-f71a-42f8-a6bd-13113ba45aed\",\"attributes\":{\"tags\":[\"apply_ranges\"],\"x\":{\"type\":\"field\",\"field\":\"Hour\"},\"y\":{\"type\":\"field\",\"field\":\"Tuesday\"},\"line_color\":\"#fc4f30\",\"line_alpha\":0.2,\"line_width\":2}}}},{\"type\":\"object\",\"name\":\"GlyphRenderer\",\"id\":\"b9b866c5-c184-42d7-b28b-da3adedcfa08\",\"attributes\":{\"name\":\"Wednesday\",\"data_source\":{\"type\":\"object\",\"name\":\"ColumnDataSource\",\"id\":\"b75d84e3-2f5a-4b62-bd56-15b0dd71e676\",\"attributes\":{\"selected\":{\"type\":\"object\",\"name\":\"Selection\",\"id\":\"698610ac-13cb-48e3-a563-8e657765c419\",\"attributes\":{\"indices\":[],\"line_indices\":[]}},\"selection_policy\":{\"type\":\"object\",\"name\":\"UnionRenderers\",\"id\":\"b53a4e98-4679-4de7-84b1-e9086e2c80e4\"},\"data\":{\"type\":\"map\",\"entries\":[[\"Hour\",{\"type\":\"ndarray\",\"array\":{\"type\":\"bytes\",\"data\":\"H4sIAAEAAAAC/w3DBw6AIBAAsEMcuAeO///UNmlERLIx29rZO1gcnZxdXN3cPTy9rN4+vn7+y9u6GmAAAAA=\"},\"shape\":[24],\"dtype\":\"int32\",\"order\":\"little\"}],[\"Wednesday\",{\"type\":\"ndarray\",\"array\":{\"type\":\"bytes\",\"data\":\"H4sIAAEAAAAC/wv20lwaMuOIQ4uAE8fChh1gWnH7Oof3e7/fq16wxCEYKD/lzSKHfUDu++xVDpLJPYbHag6Cxa/MOe9QA1Ro9/gSmC8ifMmBAQTWXHD4AVQue+OCQ3T22q1mmRcdgKYEcTlfhIjfuugwt/icZfrbCw7HJIAGfj4Ntu/2yotg+xs/XXUAuqJlQvF1sLr2ymsO5yyfzyk+c80B5JxLu6+C9U08dNEBAIA2mivAAAAA\"},\"shape\":[24],\"dtype\":\"float64\",\"order\":\"little\"}]]}}},\"view\":{\"type\":\"object\",\"name\":\"CDSView\",\"id\":\"d3156d8c-f50e-4d9c-a074-81de6917b2d5\",\"attributes\":{\"filter\":{\"type\":\"object\",\"name\":\"AllIndices\",\"id\":\"069d90be-1991-40d7-b1ad-2646bbe98485\"}}},\"glyph\":{\"type\":\"object\",\"name\":\"Line\",\"id\":\"d05d6d99-c875-4e51-bca9-3939bcc924c5\",\"attributes\":{\"tags\":[\"apply_ranges\"],\"x\":{\"type\":\"field\",\"field\":\"Hour\"},\"y\":{\"type\":\"field\",\"field\":\"Wednesday\"},\"line_color\":\"#e5ae38\",\"line_width\":2}},\"selection_glyph\":{\"type\":\"object\",\"name\":\"Line\",\"id\":\"73508c5b-d7af-4ac8-8a99-2695179ed415\",\"attributes\":{\"tags\":[\"apply_ranges\"],\"x\":{\"type\":\"field\",\"field\":\"Hour\"},\"y\":{\"type\":\"field\",\"field\":\"Wednesday\"},\"line_color\":\"#e5ae38\",\"line_width\":2}},\"nonselection_glyph\":{\"type\":\"object\",\"name\":\"Line\",\"id\":\"be1506ec-08e8-4d33-b51e-982af25971e5\",\"attributes\":{\"tags\":[\"apply_ranges\"],\"x\":{\"type\":\"field\",\"field\":\"Hour\"},\"y\":{\"type\":\"field\",\"field\":\"Wednesday\"},\"line_color\":\"#e5ae38\",\"line_alpha\":0.1,\"line_width\":2}},\"muted_glyph\":{\"type\":\"object\",\"name\":\"Line\",\"id\":\"691f0a9d-0512-499d-9312-e1d7f329cc79\",\"attributes\":{\"tags\":[\"apply_ranges\"],\"x\":{\"type\":\"field\",\"field\":\"Hour\"},\"y\":{\"type\":\"field\",\"field\":\"Wednesday\"},\"line_color\":\"#e5ae38\",\"line_alpha\":0.2,\"line_width\":2}}}},{\"type\":\"object\",\"name\":\"GlyphRenderer\",\"id\":\"fd98362a-018b-47af-8591-727b64f7b9cb\",\"attributes\":{\"name\":\"Thursday\",\"data_source\":{\"type\":\"object\",\"name\":\"ColumnDataSource\",\"id\":\"d088abbe-c520-4d5b-8130-3422a9fcc2fc\",\"attributes\":{\"selected\":{\"type\":\"object\",\"name\":\"Selection\",\"id\":\"227e7436-f759-45b7-8f98-5afcbdeec2b9\",\"attributes\":{\"indices\":[],\"line_indices\":[]}},\"selection_policy\":{\"type\":\"object\",\"name\":\"UnionRenderers\",\"id\":\"78f409a8-3163-4999-be51-0d869fb2ee3e\"},\"data\":{\"type\":\"map\",\"entries\":[[\"Hour\",{\"type\":\"ndarray\",\"array\":{\"type\":\"bytes\",\"data\":\"H4sIAAEAAAAC/w3DBw6AIBAAsEMcuAeO///UNmlERLIx29rZO1gcnZxdXN3cPTy9rN4+vn7+y9u6GmAAAAA=\"},\"shape\":[24],\"dtype\":\"int32\",\"order\":\"little\"}],[\"Thursday\",{\"type\":\"ndarray\",\"array\":{\"type\":\"bytes\",\"data\":\"H4sIAAEAAAAC/2NgYGBwOHvCwYlDsWXCkf0O16Oy15o+2+KQvXbrtahjayB08gqHpVOCvDQXrnGYW3zOUj3ooIOX5tIpQpPPOUgm9xi2yV9yAGoXYEq96AA0juGB9wWIfMQFB6NjEslnuC461Lzf+93u2gWwOZ2HLjoApYNOLb4A1neI9bQDyBrv7xfA9OrYq2B7pcyuQ8RXX3MQBDrwCc91hx/3qt/vzb7msO/7vWp++ysOAC7E8sLAAAAA\"},\"shape\":[24],\"dtype\":\"float64\",\"order\":\"little\"}]]}}},\"view\":{\"type\":\"object\",\"name\":\"CDSView\",\"id\":\"167bb6fd-c8a7-4718-a9e9-790871a479b7\",\"attributes\":{\"filter\":{\"type\":\"object\",\"name\":\"AllIndices\",\"id\":\"1b2aa8bb-fe9b-4418-838f-c43672387111\"}}},\"glyph\":{\"type\":\"object\",\"name\":\"Line\",\"id\":\"db1f1696-204e-42ef-99c3-b269ea1ee5ab\",\"attributes\":{\"tags\":[\"apply_ranges\"],\"x\":{\"type\":\"field\",\"field\":\"Hour\"},\"y\":{\"type\":\"field\",\"field\":\"Thursday\"},\"line_color\":\"#6d904f\",\"line_width\":2}},\"selection_glyph\":{\"type\":\"object\",\"name\":\"Line\",\"id\":\"074a7bc9-440b-4db8-8fa3-d25cd414e822\",\"attributes\":{\"tags\":[\"apply_ranges\"],\"x\":{\"type\":\"field\",\"field\":\"Hour\"},\"y\":{\"type\":\"field\",\"field\":\"Thursday\"},\"line_color\":\"#6d904f\",\"line_width\":2}},\"nonselection_glyph\":{\"type\":\"object\",\"name\":\"Line\",\"id\":\"306f2d83-f79b-4ddc-9700-ad689b0d0c82\",\"attributes\":{\"tags\":[\"apply_ranges\"],\"x\":{\"type\":\"field\",\"field\":\"Hour\"},\"y\":{\"type\":\"field\",\"field\":\"Thursday\"},\"line_color\":\"#6d904f\",\"line_alpha\":0.1,\"line_width\":2}},\"muted_glyph\":{\"type\":\"object\",\"name\":\"Line\",\"id\":\"dcdd0fdb-f4e5-408b-aee9-2cd7a2083eeb\",\"attributes\":{\"tags\":[\"apply_ranges\"],\"x\":{\"type\":\"field\",\"field\":\"Hour\"},\"y\":{\"type\":\"field\",\"field\":\"Thursday\"},\"line_color\":\"#6d904f\",\"line_alpha\":0.2,\"line_width\":2}}}},{\"type\":\"object\",\"name\":\"GlyphRenderer\",\"id\":\"1c6b5a55-6538-44d2-995a-700657339996\",\"attributes\":{\"name\":\"Friday\",\"data_source\":{\"type\":\"object\",\"name\":\"ColumnDataSource\",\"id\":\"ea3ccf17-2600-430d-baa4-5be86c9f0084\",\"attributes\":{\"selected\":{\"type\":\"object\",\"name\":\"Selection\",\"id\":\"21974992-b174-4c39-b1bb-9e977f78590d\",\"attributes\":{\"indices\":[],\"line_indices\":[]}},\"selection_policy\":{\"type\":\"object\",\"name\":\"UnionRenderers\",\"id\":\"4d66c4f1-743d-48e6-bfb8-b1b600d5c27e\"},\"data\":{\"type\":\"map\",\"entries\":[[\"Hour\",{\"type\":\"ndarray\",\"array\":{\"type\":\"bytes\",\"data\":\"H4sIAAEAAAAC/w3DBw6AIBAAsEMcuAeO///UNmlERLIx29rZO1gcnZxdXN3cPTy9rN4+vn7+y9u6GmAAAAA=\"},\"shape\":[24],\"dtype\":\"int32\",\"order\":\"little\"}],[\"Friday\",{\"type\":\"ndarray\",\"array\":{\"type\":\"bytes\",\"data\":\"H4sIAAEAAAAC/5NM7jFsUzrvoLl0StCpDUccGECAe7eDF1Dgkswmh+jstVuvTVwDoa+tcSg5Z/k8pvCAw9zic5bpe884ALV5aTpcdKh5v/e73McLDtuuRWXnPjoPlncPv+AANP6YxK0LDi0CThwLz18Ai6tLXnIAmhbVffmCw/M5xed2ip5xcOJQbDHYfhFsv4PtNQdFoIYO3xsOQOvmXFa87nA9KnttKd91iDzzDQejYxLJOuI3HAC5syTUwAAAAA==\"},\"shape\":[24],\"dtype\":\"float64\",\"order\":\"little\"}]]}}},\"view\":{\"type\":\"object\",\"name\":\"CDSView\",\"id\":\"7df27740-ca44-40eb-84a3-317793a85365\",\"attributes\":{\"filter\":{\"type\":\"object\",\"name\":\"AllIndices\",\"id\":\"f69099a3-065f-4191-b70b-a63fea312ef7\"}}},\"glyph\":{\"type\":\"object\",\"name\":\"Line\",\"id\":\"c700b822-fc34-47c3-bcf4-1124ffb4aecf\",\"attributes\":{\"tags\":[\"apply_ranges\"],\"x\":{\"type\":\"field\",\"field\":\"Hour\"},\"y\":{\"type\":\"field\",\"field\":\"Friday\"},\"line_color\":\"#8b8b8b\",\"line_width\":2}},\"selection_glyph\":{\"type\":\"object\",\"name\":\"Line\",\"id\":\"11510fbc-5d69-4e0b-9de9-c037780a5c0a\",\"attributes\":{\"tags\":[\"apply_ranges\"],\"x\":{\"type\":\"field\",\"field\":\"Hour\"},\"y\":{\"type\":\"field\",\"field\":\"Friday\"},\"line_color\":\"#8b8b8b\",\"line_width\":2}},\"nonselection_glyph\":{\"type\":\"object\",\"name\":\"Line\",\"id\":\"3b266cb2-a0e3-46c7-85ab-808d67fb02c7\",\"attributes\":{\"tags\":[\"apply_ranges\"],\"x\":{\"type\":\"field\",\"field\":\"Hour\"},\"y\":{\"type\":\"field\",\"field\":\"Friday\"},\"line_color\":\"#8b8b8b\",\"line_alpha\":0.1,\"line_width\":2}},\"muted_glyph\":{\"type\":\"object\",\"name\":\"Line\",\"id\":\"dc89726c-3c73-4469-9497-d960eb3ace48\",\"attributes\":{\"tags\":[\"apply_ranges\"],\"x\":{\"type\":\"field\",\"field\":\"Hour\"},\"y\":{\"type\":\"field\",\"field\":\"Friday\"},\"line_color\":\"#8b8b8b\",\"line_alpha\":0.2,\"line_width\":2}}}},{\"type\":\"object\",\"name\":\"GlyphRenderer\",\"id\":\"b4d2c207-7b14-4fd4-aeed-9e78dea46d76\",\"attributes\":{\"name\":\"Saturday\",\"data_source\":{\"type\":\"object\",\"name\":\"ColumnDataSource\",\"id\":\"80fa0db2-9878-4784-9b70-a06213f3be29\",\"attributes\":{\"selected\":{\"type\":\"object\",\"name\":\"Selection\",\"id\":\"cddeb2ed-8aff-478f-b8e9-910c41725546\",\"attributes\":{\"indices\":[],\"line_indices\":[]}},\"selection_policy\":{\"type\":\"object\",\"name\":\"UnionRenderers\",\"id\":\"6d289753-ba06-4b75-b048-3e145a4f4b07\"},\"data\":{\"type\":\"map\",\"entries\":[[\"Hour\",{\"type\":\"ndarray\",\"array\":{\"type\":\"bytes\",\"data\":\"H4sIAAEAAAAC/w3DBw6AIBAAsEMcuAeO///UNmlERLIx29rZO1gcnZxdXN3cPTy9rN4+vn7+y9u6GmAAAAA=\"},\"shape\":[24],\"dtype\":\"int32\",\"order\":\"little\"}],[\"Saturday\",{\"type\":\"ndarray\",\"array\":{\"type\":\"bytes\",\"data\":\"H4sIAAEAAAAC/xN04lB0KbnmsO/7vWr+4MsO96vf7y0/d94BKNwScPm4w7ZrUdlrW/Y5SCb3GB6LXuvwfE7xuZ3cGxze7wVqSNzu8ONe9XvbOwcdlk4J8np56aRDdPbardPmnwfTYeaXHIC6JJQrLzsYHZNI1jl/2cEKaABf0mWHGqABdrWXHYK9NJd+YbnooNgi4PTC9jKEbroGccfb62B3FKy5Cnbf+fKrDiXnLJ/XJF93ACrjUJx1wwEA1VOlwcAAAAA=\"},\"shape\":[24],\"dtype\":\"float64\",\"order\":\"little\"}]]}}},\"view\":{\"type\":\"object\",\"name\":\"CDSView\",\"id\":\"65aced36-d96a-45a6-ba02-084710ad75bb\",\"attributes\":{\"filter\":{\"type\":\"object\",\"name\":\"AllIndices\",\"id\":\"762d0b28-6718-4153-b166-e96c8e2177b7\"}}},\"glyph\":{\"type\":\"object\",\"name\":\"Line\",\"id\":\"76c91f28-bf01-4697-bb1d-d2f653eb0839\",\"attributes\":{\"tags\":[\"apply_ranges\"],\"x\":{\"type\":\"field\",\"field\":\"Hour\"},\"y\":{\"type\":\"field\",\"field\":\"Saturday\"},\"line_color\":\"#17becf\",\"line_width\":2}},\"selection_glyph\":{\"type\":\"object\",\"name\":\"Line\",\"id\":\"37d8b994-1b0a-434d-8dfb-e533dc7a74d5\",\"attributes\":{\"tags\":[\"apply_ranges\"],\"x\":{\"type\":\"field\",\"field\":\"Hour\"},\"y\":{\"type\":\"field\",\"field\":\"Saturday\"},\"line_color\":\"#17becf\",\"line_width\":2}},\"nonselection_glyph\":{\"type\":\"object\",\"name\":\"Line\",\"id\":\"75aa76ce-e28b-4c07-9988-11010fd1a864\",\"attributes\":{\"tags\":[\"apply_ranges\"],\"x\":{\"type\":\"field\",\"field\":\"Hour\"},\"y\":{\"type\":\"field\",\"field\":\"Saturday\"},\"line_color\":\"#17becf\",\"line_alpha\":0.1,\"line_width\":2}},\"muted_glyph\":{\"type\":\"object\",\"name\":\"Line\",\"id\":\"e239bc66-a7c7-4e48-a2a7-9d86b0c2299b\",\"attributes\":{\"tags\":[\"apply_ranges\"],\"x\":{\"type\":\"field\",\"field\":\"Hour\"},\"y\":{\"type\":\"field\",\"field\":\"Saturday\"},\"line_color\":\"#17becf\",\"line_alpha\":0.2,\"line_width\":2}}}},{\"type\":\"object\",\"name\":\"GlyphRenderer\",\"id\":\"3e9c9d3f-68c8-4916-879c-6361acf94311\",\"attributes\":{\"name\":\"Sunday\",\"data_source\":{\"type\":\"object\",\"name\":\"ColumnDataSource\",\"id\":\"f4bb78ba-6cb2-41bc-b330-6658f158ce9e\",\"attributes\":{\"selected\":{\"type\":\"object\",\"name\":\"Selection\",\"id\":\"17204352-2d40-4ec4-8ecb-d473323ddccc\",\"attributes\":{\"indices\":[],\"line_indices\":[]}},\"selection_policy\":{\"type\":\"object\",\"name\":\"UnionRenderers\",\"id\":\"54e6c00a-127e-4975-9cc2-b1dcd05a4198\"},\"data\":{\"type\":\"map\",\"entries\":[[\"Hour\",{\"type\":\"ndarray\",\"array\":{\"type\":\"bytes\",\"data\":\"H4sIAAEAAAAC/w3DBw6AIBAAsEMcuAeO///UNmlERLIx29rZO1gcnZxdXN3cPTy9rN4+vn7+y9u6GmAAAAA=\"},\"shape\":[24],\"dtype\":\"int32\",\"order\":\"little\"}],[\"Sunday\",{\"type\":\"ndarray\",\"array\":{\"type\":\"bytes\",\"data\":\"H4sIAAEAAAAC/3v/7t27dWHXHZSAIEnsqoMgEFxUueiQBgRuwqccGIDAYe4BMP/Zr7UO5UDwvXyNw9kzZ874pG9ycAGClu+7Hd4DzemTPwrmq8ieBas/JnwRzF/Sc8nBGAg+t19y6Ozo6IiYfMkhFAhaF14E01OjL0DEWy86zJo5c+bO2xB1HayXwObmpV8Ai1cGnYeYE3gGzLe8fMwBABaTBi3AAAAA\"},\"shape\":[24],\"dtype\":\"float64\",\"order\":\"little\"}]]}}},\"view\":{\"type\":\"object\",\"name\":\"CDSView\",\"id\":\"f7bff57e-e652-48e7-8007-81298533b826\",\"attributes\":{\"filter\":{\"type\":\"object\",\"name\":\"AllIndices\",\"id\":\"44b16818-d437-47a4-b2bb-1f57e0f5cd77\"}}},\"glyph\":{\"type\":\"object\",\"name\":\"Line\",\"id\":\"b6a34ad3-1413-4611-9f11-7103dbb84117\",\"attributes\":{\"tags\":[\"apply_ranges\"],\"x\":{\"type\":\"field\",\"field\":\"Hour\"},\"y\":{\"type\":\"field\",\"field\":\"Sunday\"},\"line_color\":\"#9467bd\",\"line_width\":2}},\"selection_glyph\":{\"type\":\"object\",\"name\":\"Line\",\"id\":\"2adf5ab0-cb12-495a-90d5-c06a90552e09\",\"attributes\":{\"tags\":[\"apply_ranges\"],\"x\":{\"type\":\"field\",\"field\":\"Hour\"},\"y\":{\"type\":\"field\",\"field\":\"Sunday\"},\"line_color\":\"#9467bd\",\"line_width\":2}},\"nonselection_glyph\":{\"type\":\"object\",\"name\":\"Line\",\"id\":\"4e62d3eb-4b27-4722-a391-4d4e1ba035a7\",\"attributes\":{\"tags\":[\"apply_ranges\"],\"x\":{\"type\":\"field\",\"field\":\"Hour\"},\"y\":{\"type\":\"field\",\"field\":\"Sunday\"},\"line_color\":\"#9467bd\",\"line_alpha\":0.1,\"line_width\":2}},\"muted_glyph\":{\"type\":\"object\",\"name\":\"Line\",\"id\":\"e20ad0b9-2f1f-4a09-91a2-35361ea317ec\",\"attributes\":{\"tags\":[\"apply_ranges\"],\"x\":{\"type\":\"field\",\"field\":\"Hour\"},\"y\":{\"type\":\"field\",\"field\":\"Sunday\"},\"line_color\":\"#9467bd\",\"line_alpha\":0.2,\"line_width\":2}}}}],\"toolbar\":{\"type\":\"object\",\"name\":\"Toolbar\",\"id\":\"fb7e9aa6-e4ec-48dc-8173-3abe8d45ada8\",\"attributes\":{\"tools\":[{\"type\":\"object\",\"name\":\"WheelZoomTool\",\"id\":\"fd338ad8-0dba-4aec-8ac6-7c446e6f79ec\",\"attributes\":{\"tags\":[\"hv_created\"],\"renderers\":\"auto\",\"zoom_together\":\"none\"}},{\"type\":\"object\",\"name\":\"HoverTool\",\"id\":\"8cac53ef-e8fa-4931-aa42-d1950f48d6c7\",\"attributes\":{\"tags\":[\"hv_created\"],\"renderers\":[{\"id\":\"3e124a63-33ba-4f36-9992-2338f4d97889\"}],\"tooltips\":[[\"Hour\",\"@{Hour}\"],[\"Monday\",\"@{Monday}\"]],\"sort_by\":null}},{\"type\":\"object\",\"name\":\"HoverTool\",\"id\":\"dddec5fd-503e-4b34-94e9-e5b0eadfa747\",\"attributes\":{\"tags\":[\"hv_created\"],\"renderers\":[{\"id\":\"257673a5-71e9-442a-a1ec-7347964f69c0\"}],\"tooltips\":[[\"Hour\",\"@{Hour}\"],[\"Tuesday\",\"@{Tuesday}\"]],\"sort_by\":null}},{\"type\":\"object\",\"name\":\"HoverTool\",\"id\":\"926d905b-a7f3-47a3-ab3c-d01ef48d8d4d\",\"attributes\":{\"tags\":[\"hv_created\"],\"renderers\":[{\"id\":\"b9b866c5-c184-42d7-b28b-da3adedcfa08\"}],\"tooltips\":[[\"Hour\",\"@{Hour}\"],[\"Wednesday\",\"@{Wednesday}\"]],\"sort_by\":null}},{\"type\":\"object\",\"name\":\"HoverTool\",\"id\":\"e2e9e866-2899-4ffa-812e-5c128487acb1\",\"attributes\":{\"tags\":[\"hv_created\"],\"renderers\":[{\"id\":\"fd98362a-018b-47af-8591-727b64f7b9cb\"}],\"tooltips\":[[\"Hour\",\"@{Hour}\"],[\"Thursday\",\"@{Thursday}\"]],\"sort_by\":null}},{\"type\":\"object\",\"name\":\"HoverTool\",\"id\":\"4550be79-a357-4d86-a152-2fe8513666e8\",\"attributes\":{\"tags\":[\"hv_created\"],\"renderers\":[{\"id\":\"1c6b5a55-6538-44d2-995a-700657339996\"}],\"tooltips\":[[\"Hour\",\"@{Hour}\"],[\"Friday\",\"@{Friday}\"]],\"sort_by\":null}},{\"type\":\"object\",\"name\":\"HoverTool\",\"id\":\"bb5bff1d-967a-47d6-8719-70fb85e966e2\",\"attributes\":{\"tags\":[\"hv_created\"],\"renderers\":[{\"id\":\"b4d2c207-7b14-4fd4-aeed-9e78dea46d76\"}],\"tooltips\":[[\"Hour\",\"@{Hour}\"],[\"Saturday\",\"@{Saturday}\"]],\"sort_by\":null}},{\"type\":\"object\",\"name\":\"HoverTool\",\"id\":\"46d9a5f0-1e62-4ec4-bd47-b8bf254945c7\",\"attributes\":{\"tags\":[\"hv_created\"],\"renderers\":[{\"id\":\"3e9c9d3f-68c8-4916-879c-6361acf94311\"}],\"tooltips\":[[\"Hour\",\"@{Hour}\"],[\"Sunday\",\"@{Sunday}\"]],\"sort_by\":null}},{\"type\":\"object\",\"name\":\"SaveTool\",\"id\":\"2f31c088-c8e9-4e94-8bc6-5e68f5fabf8c\"},{\"type\":\"object\",\"name\":\"PanTool\",\"id\":\"505b2ea8-c55c-4834-9b5c-f67ce3c24db7\"},{\"type\":\"object\",\"name\":\"BoxZoomTool\",\"id\":\"b54df190-1aab-4741-8768-b01b21a68dc0\",\"attributes\":{\"dimensions\":\"both\",\"overlay\":{\"type\":\"object\",\"name\":\"BoxAnnotation\",\"id\":\"8b06d1d7-dee1-458b-809f-32d5c95cdd1d\",\"attributes\":{\"syncable\":false,\"line_color\":\"black\",\"line_alpha\":1.0,\"line_width\":2,\"line_dash\":[4,4],\"fill_color\":\"lightgrey\",\"fill_alpha\":0.5,\"level\":\"overlay\",\"visible\":false,\"left\":{\"type\":\"number\",\"value\":\"nan\"},\"right\":{\"type\":\"number\",\"value\":\"nan\"},\"top\":{\"type\":\"number\",\"value\":\"nan\"},\"bottom\":{\"type\":\"number\",\"value\":\"nan\"},\"left_units\":\"canvas\",\"right_units\":\"canvas\",\"top_units\":\"canvas\",\"bottom_units\":\"canvas\",\"handles\":{\"type\":\"object\",\"name\":\"BoxInteractionHandles\",\"id\":\"adc20d29-ec5c-4530-b6d2-f7b1c63beb53\",\"attributes\":{\"all\":{\"type\":\"object\",\"name\":\"AreaVisuals\",\"id\":\"1ee3d408-f54b-4137-8a2e-5aafd90b317f\",\"attributes\":{\"fill_color\":\"white\",\"hover_fill_color\":\"lightgray\"}}}}}}}},{\"type\":\"object\",\"name\":\"ResetTool\",\"id\":\"5e10d868-0c8c-4487-8477-6c4066a45d55\"}],\"active_drag\":{\"id\":\"505b2ea8-c55c-4834-9b5c-f67ce3c24db7\"},\"active_scroll\":{\"id\":\"fd338ad8-0dba-4aec-8ac6-7c446e6f79ec\"}}},\"left\":[{\"type\":\"object\",\"name\":\"LinearAxis\",\"id\":\"cac94338-7440-4f36-b2be-1b66eca2bd8a\",\"attributes\":{\"ticker\":{\"type\":\"object\",\"name\":\"BasicTicker\",\"id\":\"6be0ac01-0200-4502-96ea-dead81a8e3b8\",\"attributes\":{\"mantissas\":[1,2,5]}},\"formatter\":{\"type\":\"object\",\"name\":\"BasicTickFormatter\",\"id\":\"682a5067-5186-4f89-a1b4-1909ecbbffa9\"},\"axis_label\":\"Demand\",\"major_label_policy\":{\"type\":\"object\",\"name\":\"AllLabels\",\"id\":\"bdb594b7-7257-4df1-99e0-8031a7bee518\"}}}],\"below\":[{\"type\":\"object\",\"name\":\"LinearAxis\",\"id\":\"df96c206-c4e4-481c-8606-af8564186bfe\",\"attributes\":{\"ticker\":{\"type\":\"object\",\"name\":\"BasicTicker\",\"id\":\"122afb6c-0640-4ae1-b6e1-eab79949449e\",\"attributes\":{\"mantissas\":[1,2,5]}},\"formatter\":{\"type\":\"object\",\"name\":\"BasicTickFormatter\",\"id\":\"c14a2cd1-705b-4f52-b54d-aafa47119515\"},\"axis_label\":\"Hour\",\"major_label_policy\":{\"type\":\"object\",\"name\":\"AllLabels\",\"id\":\"9377d5ee-2aee-4705-a7cc-638877662163\"}}}],\"center\":[{\"type\":\"object\",\"name\":\"Grid\",\"id\":\"15fbb637-8fdb-41ab-9a4b-8ab6c8a676aa\",\"attributes\":{\"axis\":{\"id\":\"df96c206-c4e4-481c-8606-af8564186bfe\"},\"ticker\":{\"id\":\"122afb6c-0640-4ae1-b6e1-eab79949449e\"}}},{\"type\":\"object\",\"name\":\"Grid\",\"id\":\"f07ba9ed-e639-4ebb-85ef-e03da248e6e0\",\"attributes\":{\"dimension\":1,\"axis\":{\"id\":\"cac94338-7440-4f36-b2be-1b66eca2bd8a\"},\"ticker\":{\"id\":\"6be0ac01-0200-4502-96ea-dead81a8e3b8\"}}},{\"type\":\"object\",\"name\":\"Legend\",\"id\":\"d4e84a2e-cba0-47b6-b06f-9e0199455b91\",\"attributes\":{\"click_policy\":\"mute\",\"items\":[{\"type\":\"object\",\"name\":\"LegendItem\",\"id\":\"52039b10-92dc-4432-99ee-8519728dee1d\",\"attributes\":{\"label\":{\"type\":\"value\",\"value\":\"Monday\"},\"renderers\":[{\"id\":\"3e124a63-33ba-4f36-9992-2338f4d97889\"}]}},{\"type\":\"object\",\"name\":\"LegendItem\",\"id\":\"80fefd0f-72e6-4e78-b69f-1c6cbe8f09eb\",\"attributes\":{\"label\":{\"type\":\"value\",\"value\":\"Tuesday\"},\"renderers\":[{\"id\":\"257673a5-71e9-442a-a1ec-7347964f69c0\"}]}},{\"type\":\"object\",\"name\":\"LegendItem\",\"id\":\"69f13b54-679f-49d7-beea-cb91da3556ba\",\"attributes\":{\"label\":{\"type\":\"value\",\"value\":\"Wednesday\"},\"renderers\":[{\"id\":\"b9b866c5-c184-42d7-b28b-da3adedcfa08\"}]}},{\"type\":\"object\",\"name\":\"LegendItem\",\"id\":\"312ffb0e-0005-47d9-a309-a86fe7a47316\",\"attributes\":{\"label\":{\"type\":\"value\",\"value\":\"Thursday\"},\"renderers\":[{\"id\":\"fd98362a-018b-47af-8591-727b64f7b9cb\"}]}},{\"type\":\"object\",\"name\":\"LegendItem\",\"id\":\"2fbbc60b-0d38-4c31-8b47-b8d6d6fdbd14\",\"attributes\":{\"label\":{\"type\":\"value\",\"value\":\"Friday\"},\"renderers\":[{\"id\":\"1c6b5a55-6538-44d2-995a-700657339996\"}]}},{\"type\":\"object\",\"name\":\"LegendItem\",\"id\":\"278dbb8f-1924-4807-9e0a-d2a5bbf8bf19\",\"attributes\":{\"label\":{\"type\":\"value\",\"value\":\"Saturday\"},\"renderers\":[{\"id\":\"b4d2c207-7b14-4fd4-aeed-9e78dea46d76\"}]}},{\"type\":\"object\",\"name\":\"LegendItem\",\"id\":\"366b5e8d-3c84-41bc-bd7d-505457851faa\",\"attributes\":{\"label\":{\"type\":\"value\",\"value\":\"Sunday\"},\"renderers\":[{\"id\":\"3e9c9d3f-68c8-4916-879c-6361acf94311\"}]}}]}}],\"min_border_top\":10,\"min_border_bottom\":10,\"min_border_left\":10,\"min_border_right\":10,\"output_backend\":\"webgl\"}},{\"type\":\"object\",\"name\":\"Spacer\",\"id\":\"a1dfb1f3-9a84-4025-8f2d-0f7f1f885a07\",\"attributes\":{\"name\":\"HSpacer02574\",\"stylesheets\":[\"\\n:host(.pn-loading):before, .pn-loading:before {\\n  background-color: #c3c3c3;\\n  mask-size: auto calc(min(50%, 300px));\\n  -webkit-mask-size: auto calc(min(50%, 300px));\\n}\",{\"id\":\"00ba6a44-798e-41de-a9e6-f8de73bf8fc3\"},{\"id\":\"a4bf5e09-a488-4a83-b7ef-20a7f1d80ce5\"},{\"id\":\"c5b086cf-3004-41c2-a140-51d613452c3a\"}],\"min_width\":0,\"margin\":0,\"sizing_mode\":\"stretch_width\",\"align\":\"start\"}}]}}],\"defs\":[{\"type\":\"model\",\"name\":\"ReactiveHTML1\"},{\"type\":\"model\",\"name\":\"FlexBox1\",\"properties\":[{\"name\":\"align_content\",\"kind\":\"Any\",\"default\":\"flex-start\"},{\"name\":\"align_items\",\"kind\":\"Any\",\"default\":\"flex-start\"},{\"name\":\"flex_direction\",\"kind\":\"Any\",\"default\":\"row\"},{\"name\":\"flex_wrap\",\"kind\":\"Any\",\"default\":\"wrap\"},{\"name\":\"gap\",\"kind\":\"Any\",\"default\":\"\"},{\"name\":\"justify_content\",\"kind\":\"Any\",\"default\":\"flex-start\"}]},{\"type\":\"model\",\"name\":\"FloatPanel1\",\"properties\":[{\"name\":\"config\",\"kind\":\"Any\",\"default\":{\"type\":\"map\"}},{\"name\":\"contained\",\"kind\":\"Any\",\"default\":true},{\"name\":\"position\",\"kind\":\"Any\",\"default\":\"right-top\"},{\"name\":\"offsetx\",\"kind\":\"Any\",\"default\":null},{\"name\":\"offsety\",\"kind\":\"Any\",\"default\":null},{\"name\":\"theme\",\"kind\":\"Any\",\"default\":\"primary\"},{\"name\":\"status\",\"kind\":\"Any\",\"default\":\"normalized\"}]},{\"type\":\"model\",\"name\":\"GridStack1\",\"properties\":[{\"name\":\"ncols\",\"kind\":\"Any\",\"default\":null},{\"name\":\"nrows\",\"kind\":\"Any\",\"default\":null},{\"name\":\"allow_resize\",\"kind\":\"Any\",\"default\":true},{\"name\":\"allow_drag\",\"kind\":\"Any\",\"default\":true},{\"name\":\"state\",\"kind\":\"Any\",\"default\":[]}]},{\"type\":\"model\",\"name\":\"drag1\",\"properties\":[{\"name\":\"slider_width\",\"kind\":\"Any\",\"default\":5},{\"name\":\"slider_color\",\"kind\":\"Any\",\"default\":\"black\"},{\"name\":\"start\",\"kind\":\"Any\",\"default\":0},{\"name\":\"end\",\"kind\":\"Any\",\"default\":100},{\"name\":\"value\",\"kind\":\"Any\",\"default\":50}]},{\"type\":\"model\",\"name\":\"click1\",\"properties\":[{\"name\":\"terminal_output\",\"kind\":\"Any\",\"default\":\"\"},{\"name\":\"debug_name\",\"kind\":\"Any\",\"default\":\"\"},{\"name\":\"clears\",\"kind\":\"Any\",\"default\":0}]},{\"type\":\"model\",\"name\":\"ReactiveESM1\",\"properties\":[{\"name\":\"esm_constants\",\"kind\":\"Any\",\"default\":{\"type\":\"map\"}}]},{\"type\":\"model\",\"name\":\"JSComponent1\",\"properties\":[{\"name\":\"esm_constants\",\"kind\":\"Any\",\"default\":{\"type\":\"map\"}}]},{\"type\":\"model\",\"name\":\"ReactComponent1\",\"properties\":[{\"name\":\"use_shadow_dom\",\"kind\":\"Any\",\"default\":true},{\"name\":\"esm_constants\",\"kind\":\"Any\",\"default\":{\"type\":\"map\"}}]},{\"type\":\"model\",\"name\":\"AnyWidgetComponent1\",\"properties\":[{\"name\":\"use_shadow_dom\",\"kind\":\"Any\",\"default\":true},{\"name\":\"esm_constants\",\"kind\":\"Any\",\"default\":{\"type\":\"map\"}}]},{\"type\":\"model\",\"name\":\"FastWrapper1\",\"properties\":[{\"name\":\"object\",\"kind\":\"Any\",\"default\":null},{\"name\":\"style\",\"kind\":\"Any\",\"default\":null}]},{\"type\":\"model\",\"name\":\"NotificationArea1\",\"properties\":[{\"name\":\"js_events\",\"kind\":\"Any\",\"default\":{\"type\":\"map\"}},{\"name\":\"max_notifications\",\"kind\":\"Any\",\"default\":5},{\"name\":\"notifications\",\"kind\":\"Any\",\"default\":[]},{\"name\":\"position\",\"kind\":\"Any\",\"default\":\"bottom-right\"},{\"name\":\"_clear\",\"kind\":\"Any\",\"default\":0},{\"name\":\"types\",\"kind\":\"Any\",\"default\":[{\"type\":\"map\",\"entries\":[[\"type\",\"warning\"],[\"background\",\"#ffc107\"],[\"icon\",{\"type\":\"map\",\"entries\":[[\"className\",\"fas fa-exclamation-triangle\"],[\"tagName\",\"i\"],[\"color\",\"white\"]]}]]},{\"type\":\"map\",\"entries\":[[\"type\",\"info\"],[\"background\",\"#007bff\"],[\"icon\",{\"type\":\"map\",\"entries\":[[\"className\",\"fas fa-info-circle\"],[\"tagName\",\"i\"],[\"color\",\"white\"]]}]]}]}]},{\"type\":\"model\",\"name\":\"Notification\",\"properties\":[{\"name\":\"background\",\"kind\":\"Any\",\"default\":null},{\"name\":\"duration\",\"kind\":\"Any\",\"default\":3000},{\"name\":\"icon\",\"kind\":\"Any\",\"default\":null},{\"name\":\"message\",\"kind\":\"Any\",\"default\":\"\"},{\"name\":\"notification_type\",\"kind\":\"Any\",\"default\":null},{\"name\":\"_rendered\",\"kind\":\"Any\",\"default\":false},{\"name\":\"_destroyed\",\"kind\":\"Any\",\"default\":false}]},{\"type\":\"model\",\"name\":\"TemplateActions1\",\"properties\":[{\"name\":\"open_modal\",\"kind\":\"Any\",\"default\":0},{\"name\":\"close_modal\",\"kind\":\"Any\",\"default\":0}]},{\"type\":\"model\",\"name\":\"BootstrapTemplateActions1\",\"properties\":[{\"name\":\"open_modal\",\"kind\":\"Any\",\"default\":0},{\"name\":\"close_modal\",\"kind\":\"Any\",\"default\":0}]},{\"type\":\"model\",\"name\":\"TemplateEditor1\",\"properties\":[{\"name\":\"layout\",\"kind\":\"Any\",\"default\":[]}]},{\"type\":\"model\",\"name\":\"MaterialTemplateActions1\",\"properties\":[{\"name\":\"open_modal\",\"kind\":\"Any\",\"default\":0},{\"name\":\"close_modal\",\"kind\":\"Any\",\"default\":0}]},{\"type\":\"model\",\"name\":\"request_value1\",\"properties\":[{\"name\":\"fill\",\"kind\":\"Any\",\"default\":\"none\"},{\"name\":\"_synced\",\"kind\":\"Any\",\"default\":null},{\"name\":\"_request_sync\",\"kind\":\"Any\",\"default\":0}]},{\"type\":\"model\",\"name\":\"holoviews.plotting.bokeh.raster.HoverModel\",\"properties\":[{\"name\":\"xy\",\"kind\":\"Any\",\"default\":null},{\"name\":\"data\",\"kind\":\"Any\",\"default\":null}]}]}};\n",
       "  var render_items = [{\"docid\":\"3c049938-4df9-4794-a63c-2d4535bf73f6\",\"roots\":{\"3fffbe73-e649-4bf0-9e31-61609e7db27a\":\"e9df583a-946f-49ca-b04f-4825ae419372\"},\"root_ids\":[\"3fffbe73-e649-4bf0-9e31-61609e7db27a\"]}];\n",
       "  var docs = Object.values(docs_json)\n",
       "  if (!docs) {\n",
       "    return\n",
       "  }\n",
       "  const py_version = docs[0].version.replace('rc', '-rc.').replace('.dev', '-dev.')\n",
       "  async function embed_document(root) {\n",
       "    var Bokeh = get_bokeh(root)\n",
       "    await Bokeh.embed.embed_items_notebook(docs_json, render_items);\n",
       "    for (const render_item of render_items) {\n",
       "      for (const root_id of render_item.root_ids) {\n",
       "\tconst id_el = document.getElementById(root_id)\n",
       "\tif (id_el.children.length && id_el.children[0].hasAttribute('data-root-id')) {\n",
       "\t  const root_el = id_el.children[0]\n",
       "\t  root_el.id = root_el.id + '-rendered'\n",
       "\t  for (const child of root_el.children) {\n",
       "            // Ensure JupyterLab does not capture keyboard shortcuts\n",
       "            // see: https://jupyterlab.readthedocs.io/en/4.1.x/extension/notebook.html#keyboard-interaction-model\n",
       "\t    child.setAttribute('data-lm-suppress-shortcuts', 'true')\n",
       "\t  }\n",
       "\t}\n",
       "      }\n",
       "    }\n",
       "  }\n",
       "  function get_bokeh(root) {\n",
       "    if (root.Bokeh === undefined) {\n",
       "      return null\n",
       "    } else if (root.Bokeh.version !== py_version) {\n",
       "      if (root.Bokeh.versions === undefined || !root.Bokeh.versions.has(py_version)) {\n",
       "\treturn null\n",
       "      }\n",
       "      return root.Bokeh.versions.get(py_version);\n",
       "    } else if (root.Bokeh.version === py_version) {\n",
       "      return root.Bokeh\n",
       "    }\n",
       "    return null\n",
       "  }\n",
       "  function is_loaded(root) {\n",
       "    var Bokeh = get_bokeh(root)\n",
       "    return (Bokeh != null && Bokeh.Panel !== undefined)\n",
       "  }\n",
       "  if (is_loaded(root)) {\n",
       "    embed_document(root);\n",
       "  } else {\n",
       "    var attempts = 0;\n",
       "    var timer = setInterval(function(root) {\n",
       "      if (is_loaded(root)) {\n",
       "        clearInterval(timer);\n",
       "        embed_document(root);\n",
       "      } else if (document.readyState == \"complete\") {\n",
       "        attempts++;\n",
       "        if (attempts > 200) {\n",
       "          clearInterval(timer);\n",
       "\t  var Bokeh = get_bokeh(root)\n",
       "\t  if (Bokeh == null || Bokeh.Panel == null) {\n",
       "            console.warn(\"Panel: ERROR: Unable to run Panel code because Bokeh or Panel library is missing\");\n",
       "\t  } else {\n",
       "\t    console.warn(\"Panel: WARNING: Attempting to render but not all required libraries could be resolved.\")\n",
       "\t    embed_document(root)\n",
       "\t  }\n",
       "        }\n",
       "      }\n",
       "    }, 25, root)\n",
       "  }\n",
       "})(window);</script>"
      ],
      "text/plain": [
       ":Overlay\n",
       "   .Curve.Monday    :Curve   [Hour]   (Monday)\n",
       "   .Curve.Tuesday   :Curve   [Hour]   (Tuesday)\n",
       "   .Curve.Wednesday :Curve   [Hour]   (Wednesday)\n",
       "   .Curve.Thursday  :Curve   [Hour]   (Thursday)\n",
       "   .Curve.Friday    :Curve   [Hour]   (Friday)\n",
       "   .Curve.Saturday  :Curve   [Hour]   (Saturday)\n",
       "   .Curve.Sunday    :Curve   [Hour]   (Sunday)"
      ]
     },
     "execution_count": 64,
     "metadata": {
      "application/vnd.holoviews_exec.v0+json": {
       "id": "3fffbe73-e649-4bf0-9e31-61609e7db27a"
      }
     },
     "output_type": "execute_result"
    }
   ],
   "source": [
    "# Group data by Hour and Weekday, calculate the mean, and unstack\n",
    "by_weekday = df_hourly.groupby(['Hour', 'Weekday'], observed=False).mean()['value'].unstack()\n",
    "\n",
    "# Define the order of weekdays\n",
    "weekday_order = ['Monday', 'Tuesday', 'Wednesday', 'Thursday', 'Friday', 'Saturday', 'Sunday']\n",
    "\n",
    "# Create a list of Curves for each weekday\n",
    "curves = [hv.Curve(by_weekday[day], label=day) for day in weekday_order]\n",
    "\n",
    "# Combine all Curves into a single plot\n",
    "plot = hv.Overlay(curves).opts(\n",
    "    opts.Curve(title=\"Average Demand by Day & Hour\", width=800, height=300, tools=['hover'], show_grid=True, ylabel=\"Demand\")\n",
    ")\n",
    "\n",
    "plot"
   ]
  },
  {
   "cell_type": "code",
   "execution_count": null,
   "id": "a6c304b3",
   "metadata": {},
   "outputs": [],
   "source": []
  }
 ],
 "metadata": {
  "kernelspec": {
   "display_name": "Python 3",
   "language": "python",
   "name": "python3"
  },
  "language_info": {
   "codemirror_mode": {
    "name": "ipython",
    "version": 3
   },
   "file_extension": ".py",
   "mimetype": "text/x-python",
   "name": "python",
   "nbconvert_exporter": "python",
   "pygments_lexer": "ipython3",
   "version": "3.12.4"
  }
 },
 "nbformat": 4,
 "nbformat_minor": 5
}
