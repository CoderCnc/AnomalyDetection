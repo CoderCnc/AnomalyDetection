{
 "cells": [
  {
   "cell_type": "markdown",
   "id": "ee8ce6a1",
   "metadata": {},
   "source": [
    "## In this notebook, we will explore how to do anomaly detection."
   ]
  },
  {
   "cell_type": "code",
   "execution_count": 2,
   "id": "a0bf258e",
   "metadata": {},
   "outputs": [],
   "source": [
    "import pandas as pd"
   ]
  },
  {
   "cell_type": "code",
   "execution_count": 15,
   "id": "6dc54f06",
   "metadata": {},
   "outputs": [
    {
     "data": {
      "application/vnd.microsoft.datawrangler.viewer.v0+json": {
       "columns": [
        {
         "name": "index",
         "rawType": "int64",
         "type": "integer"
        },
        {
         "name": "timestamp",
         "rawType": "object",
         "type": "string"
        },
        {
         "name": "value",
         "rawType": "int64",
         "type": "integer"
        }
       ],
       "ref": "47fddf67-4ea1-4862-8493-b33e5b7a7d62",
       "rows": [
        [
         "0",
         "2014-07-01 00:00:00",
         "10844"
        ],
        [
         "1",
         "2014-07-01 00:30:00",
         "8127"
        ],
        [
         "2",
         "2014-07-01 01:00:00",
         "6210"
        ],
        [
         "3",
         "2014-07-01 01:30:00",
         "4656"
        ],
        [
         "4",
         "2014-07-01 02:00:00",
         "3820"
        ]
       ],
       "shape": {
        "columns": 2,
        "rows": 5
       }
      },
      "text/html": [
       "<div>\n",
       "<style scoped>\n",
       "    .dataframe tbody tr th:only-of-type {\n",
       "        vertical-align: middle;\n",
       "    }\n",
       "\n",
       "    .dataframe tbody tr th {\n",
       "        vertical-align: top;\n",
       "    }\n",
       "\n",
       "    .dataframe thead th {\n",
       "        text-align: right;\n",
       "    }\n",
       "</style>\n",
       "<table border=\"1\" class=\"dataframe\">\n",
       "  <thead>\n",
       "    <tr style=\"text-align: right;\">\n",
       "      <th></th>\n",
       "      <th>timestamp</th>\n",
       "      <th>value</th>\n",
       "    </tr>\n",
       "  </thead>\n",
       "  <tbody>\n",
       "    <tr>\n",
       "      <th>0</th>\n",
       "      <td>2014-07-01 00:00:00</td>\n",
       "      <td>10844</td>\n",
       "    </tr>\n",
       "    <tr>\n",
       "      <th>1</th>\n",
       "      <td>2014-07-01 00:30:00</td>\n",
       "      <td>8127</td>\n",
       "    </tr>\n",
       "    <tr>\n",
       "      <th>2</th>\n",
       "      <td>2014-07-01 01:00:00</td>\n",
       "      <td>6210</td>\n",
       "    </tr>\n",
       "    <tr>\n",
       "      <th>3</th>\n",
       "      <td>2014-07-01 01:30:00</td>\n",
       "      <td>4656</td>\n",
       "    </tr>\n",
       "    <tr>\n",
       "      <th>4</th>\n",
       "      <td>2014-07-01 02:00:00</td>\n",
       "      <td>3820</td>\n",
       "    </tr>\n",
       "  </tbody>\n",
       "</table>\n",
       "</div>"
      ],
      "text/plain": [
       "             timestamp  value\n",
       "0  2014-07-01 00:00:00  10844\n",
       "1  2014-07-01 00:30:00   8127\n",
       "2  2014-07-01 01:00:00   6210\n",
       "3  2014-07-01 01:30:00   4656\n",
       "4  2014-07-01 02:00:00   3820"
      ]
     },
     "execution_count": 15,
     "metadata": {},
     "output_type": "execute_result"
    }
   ],
   "source": [
    "df = pd.read_csv(\"nyc_taxi.csv\")\n",
    "df.head()"
   ]
  },
  {
   "cell_type": "code",
   "execution_count": 16,
   "id": "69184ca0",
   "metadata": {},
   "outputs": [],
   "source": [
    "def overview(df: pd.DataFrame, timestamp_col: str = None) -> None:\n",
    "    print('Null Count:\\n', df.isnull().sum(),'\\n')\n",
    "    print('Data Types:\\n', df.dtypes)\n",
    "    \n",
    "    if timestamp_col is not None:\n",
    "        df[timestamp_col] = pd.to_datetime(df[timestamp_col], errors='coerce')\n",
    "\n",
    "        print('\\nDate Range:\\n\\nStart:\\t',df[timestamp_col].min())\n",
    "        print('End:\\t',df[timestamp_col].max())\n",
    "        print('Days:\\t',(df[timestamp_col].max() - df[timestamp_col].min()))"
   ]
  },
  {
   "cell_type": "code",
   "execution_count": 17,
   "id": "1f829540",
   "metadata": {},
   "outputs": [
    {
     "name": "stdout",
     "output_type": "stream",
     "text": [
      "Null Count:\n",
      " timestamp    0\n",
      "value        0\n",
      "dtype: int64 \n",
      "\n",
      "Data Types:\n",
      " timestamp    object\n",
      "value         int64\n",
      "dtype: object\n",
      "\n",
      "Date Range:\n",
      "\n",
      "Start:\t 2014-07-01 00:00:00\n",
      "End:\t 2015-01-31 23:30:00\n",
      "Days:\t 214 days 23:30:00\n"
     ]
    }
   ],
   "source": [
    "overview(df, timestamp_col='timestamp')"
   ]
  },
  {
   "cell_type": "code",
   "execution_count": 20,
   "id": "7acf9b2f",
   "metadata": {},
   "outputs": [
    {
     "name": "stdout",
     "output_type": "stream",
     "text": [
      "Requirement already satisfied: holoviews in /Users/ahmetcinci/opt/anaconda3/lib/python3.9/site-packages (1.16.0)\n",
      "Requirement already satisfied: bokeh in /Users/ahmetcinci/opt/anaconda3/lib/python3.9/site-packages (2.4.2)\n",
      "Requirement already satisfied: param<3.0,>=1.12.0 in /Users/ahmetcinci/opt/anaconda3/lib/python3.9/site-packages (from holoviews) (1.13.0)\n",
      "Requirement already satisfied: numpy>=1.0 in /Users/ahmetcinci/opt/anaconda3/lib/python3.9/site-packages (from holoviews) (2.0.2)\n",
      "Requirement already satisfied: pyviz-comms>=0.7.4 in /Users/ahmetcinci/opt/anaconda3/lib/python3.9/site-packages (from holoviews) (2.3.0)\n",
      "Requirement already satisfied: panel>=0.13.1 in /Users/ahmetcinci/opt/anaconda3/lib/python3.9/site-packages (from holoviews) (0.14.3)\n",
      "Requirement already satisfied: colorcet in /Users/ahmetcinci/opt/anaconda3/lib/python3.9/site-packages (from holoviews) (3.0.1)\n",
      "Requirement already satisfied: packaging in /Users/ahmetcinci/opt/anaconda3/lib/python3.9/site-packages (from holoviews) (25.0)\n",
      "Requirement already satisfied: pandas>=0.20.0 in /Users/ahmetcinci/opt/anaconda3/lib/python3.9/site-packages (from holoviews) (2.2.2)\n",
      "Requirement already satisfied: Jinja2>=2.9 in /Users/ahmetcinci/opt/anaconda3/lib/python3.9/site-packages (from bokeh) (3.1.3)\n",
      "Requirement already satisfied: pillow>=7.1.0 in /Users/ahmetcinci/opt/anaconda3/lib/python3.9/site-packages (from bokeh) (10.0.1)\n",
      "Requirement already satisfied: PyYAML>=3.10 in /Users/ahmetcinci/opt/anaconda3/lib/python3.9/site-packages (from bokeh) (6.0)\n",
      "Requirement already satisfied: tornado>=5.1 in /Users/ahmetcinci/opt/anaconda3/lib/python3.9/site-packages (from bokeh) (6.1)\n",
      "Requirement already satisfied: typing-extensions>=3.10.0 in /Users/ahmetcinci/opt/anaconda3/lib/python3.9/site-packages (from bokeh) (3.10.0.2)\n",
      "Requirement already satisfied: MarkupSafe>=2.0 in /Users/ahmetcinci/opt/anaconda3/lib/python3.9/site-packages (from Jinja2>=2.9->bokeh) (2.1.5)\n",
      "Requirement already satisfied: python-dateutil>=2.8.2 in /Users/ahmetcinci/opt/anaconda3/lib/python3.9/site-packages (from pandas>=0.20.0->holoviews) (2.8.2)\n",
      "Requirement already satisfied: pytz>=2020.1 in /Users/ahmetcinci/opt/anaconda3/lib/python3.9/site-packages (from pandas>=0.20.0->holoviews) (2021.3)\n",
      "Requirement already satisfied: tzdata>=2022.7 in /Users/ahmetcinci/opt/anaconda3/lib/python3.9/site-packages (from pandas>=0.20.0->holoviews) (2023.4)\n",
      "Requirement already satisfied: markdown in /Users/ahmetcinci/opt/anaconda3/lib/python3.9/site-packages (from panel>=0.13.1->holoviews) (3.4.1)\n",
      "Requirement already satisfied: requests in /Users/ahmetcinci/opt/anaconda3/lib/python3.9/site-packages (from panel>=0.13.1->holoviews) (2.31.0)\n",
      "Requirement already satisfied: tqdm>=4.48.0 in /Users/ahmetcinci/opt/anaconda3/lib/python3.9/site-packages (from panel>=0.13.1->holoviews) (4.62.3)\n",
      "Requirement already satisfied: pyct>=0.4.4 in /Users/ahmetcinci/opt/anaconda3/lib/python3.9/site-packages (from panel>=0.13.1->holoviews) (0.5.0)\n",
      "Requirement already satisfied: bleach in /Users/ahmetcinci/opt/anaconda3/lib/python3.9/site-packages (from panel>=0.13.1->holoviews) (4.0.0)\n",
      "Requirement already satisfied: setuptools>=42 in /Users/ahmetcinci/opt/anaconda3/lib/python3.9/site-packages (from panel>=0.13.1->holoviews) (58.0.4)\n",
      "Requirement already satisfied: six>=1.5 in /Users/ahmetcinci/opt/anaconda3/lib/python3.9/site-packages (from python-dateutil>=2.8.2->pandas>=0.20.0->holoviews) (1.16.0)\n",
      "Requirement already satisfied: webencodings in /Users/ahmetcinci/opt/anaconda3/lib/python3.9/site-packages (from bleach->panel>=0.13.1->holoviews) (0.5.1)\n",
      "Requirement already satisfied: importlib-metadata>=4.4 in /Users/ahmetcinci/opt/anaconda3/lib/python3.9/site-packages (from markdown->panel>=0.13.1->holoviews) (4.8.1)\n",
      "Requirement already satisfied: zipp>=0.5 in /Users/ahmetcinci/opt/anaconda3/lib/python3.9/site-packages (from importlib-metadata>=4.4->markdown->panel>=0.13.1->holoviews) (3.6.0)\n",
      "Requirement already satisfied: charset-normalizer<4,>=2 in /Users/ahmetcinci/opt/anaconda3/lib/python3.9/site-packages (from requests->panel>=0.13.1->holoviews) (2.0.4)\n",
      "Requirement already satisfied: idna<4,>=2.5 in /Users/ahmetcinci/opt/anaconda3/lib/python3.9/site-packages (from requests->panel>=0.13.1->holoviews) (3.2)\n",
      "Requirement already satisfied: urllib3<3,>=1.21.1 in /Users/ahmetcinci/opt/anaconda3/lib/python3.9/site-packages (from requests->panel>=0.13.1->holoviews) (1.26.7)\n",
      "Requirement already satisfied: certifi>=2017.4.17 in /Users/ahmetcinci/opt/anaconda3/lib/python3.9/site-packages (from requests->panel>=0.13.1->holoviews) (2023.11.17)\n",
      "\u001b[33mWARNING: Error parsing dependencies of pyodbc: Invalid version: '4.0.0-unsupported'\u001b[0m\u001b[33m\n",
      "\u001b[0m\u001b[31mERROR: Exception:\n",
      "Traceback (most recent call last):\n",
      "  File \"/Users/ahmetcinci/opt/anaconda3/lib/python3.9/site-packages/pip/_internal/cli/base_command.py\", line 107, in _run_wrapper\n",
      "    status = _inner_run()\n",
      "  File \"/Users/ahmetcinci/opt/anaconda3/lib/python3.9/site-packages/pip/_internal/cli/base_command.py\", line 98, in _inner_run\n",
      "    return self.run(options, args)\n",
      "  File \"/Users/ahmetcinci/opt/anaconda3/lib/python3.9/site-packages/pip/_internal/cli/req_command.py\", line 71, in wrapper\n",
      "    return func(self, options, args)\n",
      "  File \"/Users/ahmetcinci/opt/anaconda3/lib/python3.9/site-packages/pip/_internal/commands/install.py\", line 487, in run\n",
      "    installed_versions[distribution.canonical_name] = distribution.version\n",
      "  File \"/Users/ahmetcinci/opt/anaconda3/lib/python3.9/site-packages/pip/_internal/metadata/pkg_resources.py\", line 189, in version\n",
      "    return parse_version(self._dist.version)\n",
      "  File \"/Users/ahmetcinci/opt/anaconda3/lib/python3.9/site-packages/pip/_vendor/packaging/version.py\", line 56, in parse\n",
      "    return Version(version)\n",
      "  File \"/Users/ahmetcinci/opt/anaconda3/lib/python3.9/site-packages/pip/_vendor/packaging/version.py\", line 202, in __init__\n",
      "    raise InvalidVersion(f\"Invalid version: {version!r}\")\n",
      "pip._vendor.packaging.version.InvalidVersion: Invalid version: '4.0.0-unsupported'\u001b[0m\u001b[31m\n",
      "\u001b[0mNote: you may need to restart the kernel to use updated packages.\n"
     ]
    }
   ],
   "source": [
    "pip install holoviews bokeh"
   ]
  },
  {
   "cell_type": "code",
   "execution_count": 22,
   "id": "54f17dcb",
   "metadata": {},
   "outputs": [
    {
     "name": "stdout",
     "output_type": "stream",
     "text": [
      "Requirement already satisfied: numpy in /Users/ahmetcinci/opt/anaconda3/lib/python3.9/site-packages (2.0.2)\n",
      "\u001b[33mWARNING: Error parsing dependencies of pyodbc: Invalid version: '4.0.0-unsupported'\u001b[0m\u001b[33m\n",
      "\u001b[0m\u001b[31mERROR: Exception:\n",
      "Traceback (most recent call last):\n",
      "  File \"/Users/ahmetcinci/opt/anaconda3/lib/python3.9/site-packages/pip/_internal/cli/base_command.py\", line 107, in _run_wrapper\n",
      "    status = _inner_run()\n",
      "  File \"/Users/ahmetcinci/opt/anaconda3/lib/python3.9/site-packages/pip/_internal/cli/base_command.py\", line 98, in _inner_run\n",
      "    return self.run(options, args)\n",
      "  File \"/Users/ahmetcinci/opt/anaconda3/lib/python3.9/site-packages/pip/_internal/cli/req_command.py\", line 71, in wrapper\n",
      "    return func(self, options, args)\n",
      "  File \"/Users/ahmetcinci/opt/anaconda3/lib/python3.9/site-packages/pip/_internal/commands/install.py\", line 487, in run\n",
      "    installed_versions[distribution.canonical_name] = distribution.version\n",
      "  File \"/Users/ahmetcinci/opt/anaconda3/lib/python3.9/site-packages/pip/_internal/metadata/pkg_resources.py\", line 189, in version\n",
      "    return parse_version(self._dist.version)\n",
      "  File \"/Users/ahmetcinci/opt/anaconda3/lib/python3.9/site-packages/pip/_vendor/packaging/version.py\", line 56, in parse\n",
      "    return Version(version)\n",
      "  File \"/Users/ahmetcinci/opt/anaconda3/lib/python3.9/site-packages/pip/_vendor/packaging/version.py\", line 202, in __init__\n",
      "    raise InvalidVersion(f\"Invalid version: {version!r}\")\n",
      "pip._vendor.packaging.version.InvalidVersion: Invalid version: '4.0.0-unsupported'\u001b[0m\u001b[31m\n",
      "\u001b[0mNote: you may need to restart the kernel to use updated packages.\n"
     ]
    }
   ],
   "source": [
    "pip install --upgrade numpy"
   ]
  },
  {
   "cell_type": "code",
   "execution_count": 25,
   "id": "7ca091f4",
   "metadata": {},
   "outputs": [
    {
     "name": "stdout",
     "output_type": "stream",
     "text": [
      "Requirement already satisfied: pip in /Users/ahmetcinci/opt/anaconda3/lib/python3.9/site-packages (25.2)\n",
      "Requirement already satisfied: setuptools in /Users/ahmetcinci/opt/anaconda3/lib/python3.9/site-packages (58.0.4)\n",
      "Collecting setuptools\n",
      "  Downloading setuptools-80.9.0-py3-none-any.whl.metadata (6.6 kB)\n",
      "Requirement already satisfied: wheel in /Users/ahmetcinci/opt/anaconda3/lib/python3.9/site-packages (0.37.0)\n",
      "Collecting wheel\n",
      "  Downloading wheel-0.45.1-py3-none-any.whl.metadata (2.3 kB)\n",
      "Downloading setuptools-80.9.0-py3-none-any.whl (1.2 MB)\n",
      "\u001b[2K   \u001b[90m━━━━━━━━━━━━━━━━━━━━━━━━━━━━━━━━━━━━━━━━\u001b[0m \u001b[32m1.2/1.2 MB\u001b[0m \u001b[31m3.2 MB/s\u001b[0m  \u001b[33m0:00:00\u001b[0m eta \u001b[36m0:00:01\u001b[0m\n",
      "\u001b[?25hDownloading wheel-0.45.1-py3-none-any.whl (72 kB)\n",
      "\u001b[33mWARNING: Error parsing dependencies of pyodbc: Invalid version: '4.0.0-unsupported'\u001b[0m\u001b[33m\n",
      "\u001b[0mInstalling collected packages: wheel, setuptools\n",
      "\u001b[2K  Attempting uninstall: wheel\n",
      "\u001b[2K    Found existing installation: wheel 0.37.0\n",
      "\u001b[2K    Uninstalling wheel-0.37.0:\n",
      "\u001b[2K      Successfully uninstalled wheel-0.37.0━━━━━\u001b[0m \u001b[32m0/2\u001b[0m [wheel]\n",
      "\u001b[2K  Attempting uninstall: setuptools━━━━━━━━━━\u001b[0m \u001b[32m0/2\u001b[0m [wheel]\n",
      "\u001b[2K    Found existing installation: setuptools 58.0.4━━━━━━━━━━━━━━━━\u001b[0m \u001b[32m1/2\u001b[0m [setuptools]\n",
      "\u001b[2K    Uninstalling setuptools-58.0.4:[0m\u001b[90m━━━━━━━━━━━━━━━━━━━\u001b[0m \u001b[32m1/2\u001b[0m [setuptools]\n",
      "\u001b[2K      Successfully uninstalled setuptools-58.0.4━━━━━━━━━━━━━━━━━━\u001b[0m \u001b[32m1/2\u001b[0m [setuptools]\n",
      "\u001b[2K   \u001b[90m━━━━━━━━━━━━━━━━━━━━━━━━━━━━━━━━━━━━━━━━\u001b[0m \u001b[32m2/2\u001b[0m [setuptools]2\u001b[0m [setuptools]\n",
      "\u001b[1A\u001b[2K\u001b[31mERROR: Exception:\n",
      "Traceback (most recent call last):\n",
      "  File \"/Users/ahmetcinci/opt/anaconda3/lib/python3.9/site-packages/pip/_internal/cli/base_command.py\", line 107, in _run_wrapper\n",
      "    status = _inner_run()\n",
      "  File \"/Users/ahmetcinci/opt/anaconda3/lib/python3.9/site-packages/pip/_internal/cli/base_command.py\", line 98, in _inner_run\n",
      "    return self.run(options, args)\n",
      "  File \"/Users/ahmetcinci/opt/anaconda3/lib/python3.9/site-packages/pip/_internal/cli/req_command.py\", line 71, in wrapper\n",
      "    return func(self, options, args)\n",
      "  File \"/Users/ahmetcinci/opt/anaconda3/lib/python3.9/site-packages/pip/_internal/commands/install.py\", line 487, in run\n",
      "    installed_versions[distribution.canonical_name] = distribution.version\n",
      "  File \"/Users/ahmetcinci/opt/anaconda3/lib/python3.9/site-packages/pip/_internal/metadata/pkg_resources.py\", line 189, in version\n",
      "    return parse_version(self._dist.version)\n",
      "  File \"/Users/ahmetcinci/opt/anaconda3/lib/python3.9/site-packages/pip/_vendor/packaging/version.py\", line 56, in parse\n",
      "    return Version(version)\n",
      "  File \"/Users/ahmetcinci/opt/anaconda3/lib/python3.9/site-packages/pip/_vendor/packaging/version.py\", line 202, in __init__\n",
      "    raise InvalidVersion(f\"Invalid version: {version!r}\")\n",
      "pip._vendor.packaging.version.InvalidVersion: Invalid version: '4.0.0-unsupported'\u001b[0m\u001b[31m\n",
      "\u001b[0mNote: you may need to restart the kernel to use updated packages.\n"
     ]
    }
   ],
   "source": [
    "pip install --upgrade pip setuptools wheel"
   ]
  },
  {
   "cell_type": "code",
   "execution_count": 26,
   "id": "3546c7bc",
   "metadata": {},
   "outputs": [
    {
     "ename": "SyntaxError",
     "evalue": "invalid syntax (3308578736.py, line 1)",
     "output_type": "error",
     "traceback": [
      "\u001b[0;36m  File \u001b[0;32m\"/var/folders/n_/my2vz6092ml5ww54dsp1njw40000gn/T/ipykernel_1969/3308578736.py\"\u001b[0;36m, line \u001b[0;32m1\u001b[0m\n\u001b[0;31m    pip uninstall pyodbc\u001b[0m\n\u001b[0m        ^\u001b[0m\n\u001b[0;31mSyntaxError\u001b[0m\u001b[0;31m:\u001b[0m invalid syntax\n"
     ]
    }
   ],
   "source": [
    "pip uninstall pyodbc\n",
    "pip install pyodbc"
   ]
  },
  {
   "cell_type": "code",
   "execution_count": 27,
   "id": "2c651280",
   "metadata": {},
   "outputs": [
    {
     "name": "stdout",
     "output_type": "stream",
     "text": [
      "\u001b[33mWARNING: Error parsing dependencies of pyodbc: Invalid version: '4.0.0-unsupported'\u001b[0m\u001b[33m\n",
      "\u001b[0manaconda-project 0.10.1 requires ruamel-yaml, which is not installed.\n",
      "applaunchservices 0.2.1 requires pyobjc, which is not installed.\n",
      "conda-repo-cli 1.0.4 requires pathlib, which is not installed.\n",
      "daal4py 2021.3.0 requires daal, which is not installed.\n",
      "spyder 5.1.5 requires pyqt5, which is not installed.\n",
      "spyder 5.1.5 requires pyqtwebengine, which is not installed.\n",
      "cookiecutter 1.7.2 has requirement Jinja2<3.0.0, but you have jinja2 3.1.3.\n",
      "cookiecutter 1.7.2 has requirement MarkupSafe<2.0.0, but you have markupsafe 2.1.5.\n",
      "numba 0.54.1 has requirement numpy<1.21,>=1.17, but you have numpy 2.0.2.\n",
      "pyarrow 15.0.0 has requirement numpy<2,>=1.16.6, but you have numpy 2.0.2.\n",
      "scikit-learn 1.3.2 has requirement numpy<2.0,>=1.17.3, but you have numpy 2.0.2.\n",
      "conda-verify 3.4.2 is not supported on this platform\n",
      "Note: you may need to restart the kernel to use updated packages.\n"
     ]
    }
   ],
   "source": [
    "pip check"
   ]
  },
  {
   "cell_type": "code",
   "execution_count": 24,
   "id": "6bd149b7",
   "metadata": {},
   "outputs": [
    {
     "name": "stdout",
     "output_type": "stream",
     "text": [
      "2.0.2\n"
     ]
    }
   ],
   "source": [
    "import numpy as np\n",
    "print(np.__version__)"
   ]
  },
  {
   "cell_type": "code",
   "execution_count": 23,
   "id": "caec1c16",
   "metadata": {},
   "outputs": [
    {
     "ename": "AttributeError",
     "evalue": "module 'numpy' has no attribute 'bool8'",
     "output_type": "error",
     "traceback": [
      "\u001b[0;31m---------------------------------------------------------------------------\u001b[0m",
      "\u001b[0;31mAttributeError\u001b[0m                            Traceback (most recent call last)",
      "\u001b[0;32m/var/folders/n_/my2vz6092ml5ww54dsp1njw40000gn/T/ipykernel_1969/3571225110.py\u001b[0m in \u001b[0;36m<module>\u001b[0;34m\u001b[0m\n\u001b[0;32m----> 1\u001b[0;31m \u001b[0;32mimport\u001b[0m \u001b[0mholoviews\u001b[0m \u001b[0;32mas\u001b[0m \u001b[0mhv\u001b[0m\u001b[0;34m\u001b[0m\u001b[0;34m\u001b[0m\u001b[0m\n\u001b[0m\u001b[1;32m      2\u001b[0m \u001b[0;32mfrom\u001b[0m \u001b[0mholoviews\u001b[0m \u001b[0;32mimport\u001b[0m \u001b[0mopts\u001b[0m\u001b[0;34m\u001b[0m\u001b[0;34m\u001b[0m\u001b[0m\n\u001b[1;32m      3\u001b[0m \u001b[0mhv\u001b[0m\u001b[0;34m.\u001b[0m\u001b[0mextension\u001b[0m\u001b[0;34m(\u001b[0m\u001b[0;34m'bokeh'\u001b[0m\u001b[0;34m)\u001b[0m\u001b[0;34m\u001b[0m\u001b[0;34m\u001b[0m\u001b[0m\n",
      "\u001b[0;32m~/opt/anaconda3/lib/python3.9/site-packages/holoviews/__init__.py\u001b[0m in \u001b[0;36m<module>\u001b[0;34m\u001b[0m\n\u001b[1;32m     82\u001b[0m                                         reponame=\"holoviews\"))\n\u001b[1;32m     83\u001b[0m \u001b[0;34m\u001b[0m\u001b[0m\n\u001b[0;32m---> 84\u001b[0;31m \u001b[0;32mfrom\u001b[0m \u001b[0;34m.\u001b[0m \u001b[0;32mimport\u001b[0m \u001b[0mutil\u001b[0m                                       \u001b[0;31m# noqa (API import)\u001b[0m\u001b[0;34m\u001b[0m\u001b[0;34m\u001b[0m\u001b[0m\n\u001b[0m\u001b[1;32m     85\u001b[0m \u001b[0;32mfrom\u001b[0m \u001b[0;34m.\u001b[0m\u001b[0mannotators\u001b[0m \u001b[0;32mimport\u001b[0m \u001b[0mannotate\u001b[0m                         \u001b[0;31m# noqa (API import)\u001b[0m\u001b[0;34m\u001b[0m\u001b[0;34m\u001b[0m\u001b[0m\n\u001b[1;32m     86\u001b[0m \u001b[0;32mfrom\u001b[0m \u001b[0;34m.\u001b[0m\u001b[0mcore\u001b[0m \u001b[0;32mimport\u001b[0m \u001b[0marchive\u001b[0m\u001b[0;34m,\u001b[0m \u001b[0mconfig\u001b[0m                        \u001b[0;31m# noqa (API import)\u001b[0m\u001b[0;34m\u001b[0m\u001b[0;34m\u001b[0m\u001b[0m\n",
      "\u001b[0;32m~/opt/anaconda3/lib/python3.9/site-packages/holoviews/util/__init__.py\u001b[0m in \u001b[0;36m<module>\u001b[0;34m\u001b[0m\n\u001b[1;32m     10\u001b[0m \u001b[0;34m\u001b[0m\u001b[0m\n\u001b[1;32m     11\u001b[0m \u001b[0;32mimport\u001b[0m \u001b[0mparam\u001b[0m\u001b[0;34m\u001b[0m\u001b[0;34m\u001b[0m\u001b[0m\n\u001b[0;32m---> 12\u001b[0;31m \u001b[0;32mimport\u001b[0m \u001b[0mpanel\u001b[0m \u001b[0;32mas\u001b[0m \u001b[0mpn\u001b[0m\u001b[0;34m\u001b[0m\u001b[0;34m\u001b[0m\u001b[0m\n\u001b[0m\u001b[1;32m     13\u001b[0m \u001b[0;32mfrom\u001b[0m \u001b[0mpyviz_comms\u001b[0m \u001b[0;32mimport\u001b[0m \u001b[0mextension\u001b[0m \u001b[0;32mas\u001b[0m \u001b[0m_pyviz_extension\u001b[0m\u001b[0;34m\u001b[0m\u001b[0;34m\u001b[0m\u001b[0m\n\u001b[1;32m     14\u001b[0m \u001b[0;34m\u001b[0m\u001b[0m\n",
      "\u001b[0;32m~/opt/anaconda3/lib/python3.9/site-packages/panel/__init__.py\u001b[0m in \u001b[0;36m<module>\u001b[0;34m\u001b[0m\n\u001b[1;32m     46\u001b[0m \u001b[0mhttps\u001b[0m\u001b[0;34m:\u001b[0m\u001b[0;34m//\u001b[0m\u001b[0mpanel\u001b[0m\u001b[0;34m.\u001b[0m\u001b[0mholoviz\u001b[0m\u001b[0;34m.\u001b[0m\u001b[0morg\u001b[0m\u001b[0;34m/\u001b[0m\u001b[0mgetting_started\u001b[0m\u001b[0;34m/\u001b[0m\u001b[0mindex\u001b[0m\u001b[0;34m.\u001b[0m\u001b[0mhtml\u001b[0m\u001b[0;34m\u001b[0m\u001b[0;34m\u001b[0m\u001b[0m\n\u001b[1;32m     47\u001b[0m \"\"\"\n\u001b[0;32m---> 48\u001b[0;31m \u001b[0;32mfrom\u001b[0m \u001b[0;34m.\u001b[0m \u001b[0;32mimport\u001b[0m \u001b[0mlayout\u001b[0m  \u001b[0;31m# noqa\u001b[0m\u001b[0;34m\u001b[0m\u001b[0;34m\u001b[0m\u001b[0m\n\u001b[0m\u001b[1;32m     49\u001b[0m \u001b[0;32mfrom\u001b[0m \u001b[0;34m.\u001b[0m \u001b[0;32mimport\u001b[0m \u001b[0mlinks\u001b[0m  \u001b[0;31m# noqa\u001b[0m\u001b[0;34m\u001b[0m\u001b[0;34m\u001b[0m\u001b[0m\n\u001b[1;32m     50\u001b[0m \u001b[0;32mfrom\u001b[0m \u001b[0;34m.\u001b[0m \u001b[0;32mimport\u001b[0m \u001b[0mpane\u001b[0m  \u001b[0;31m# noqa\u001b[0m\u001b[0;34m\u001b[0m\u001b[0;34m\u001b[0m\u001b[0m\n",
      "\u001b[0;32m~/opt/anaconda3/lib/python3.9/site-packages/panel/layout/__init__.py\u001b[0m in \u001b[0;36m<module>\u001b[0;34m\u001b[0m\n\u001b[1;32m     29\u001b[0m \u001b[0mhttps\u001b[0m\u001b[0;34m:\u001b[0m\u001b[0;34m//\u001b[0m\u001b[0mpanel\u001b[0m\u001b[0;34m.\u001b[0m\u001b[0mholoviz\u001b[0m\u001b[0;34m.\u001b[0m\u001b[0morg\u001b[0m\u001b[0;34m/\u001b[0m\u001b[0mgetting_started\u001b[0m\u001b[0;34m/\u001b[0m\u001b[0mindex\u001b[0m\u001b[0;34m.\u001b[0m\u001b[0mhtml\u001b[0m\u001b[0;34m\u001b[0m\u001b[0;34m\u001b[0m\u001b[0m\n\u001b[1;32m     30\u001b[0m \"\"\"\n\u001b[0;32m---> 31\u001b[0;31m \u001b[0;32mfrom\u001b[0m \u001b[0;34m.\u001b[0m\u001b[0maccordion\u001b[0m \u001b[0;32mimport\u001b[0m \u001b[0mAccordion\u001b[0m  \u001b[0;31m# noqa\u001b[0m\u001b[0;34m\u001b[0m\u001b[0;34m\u001b[0m\u001b[0m\n\u001b[0m\u001b[1;32m     32\u001b[0m from .base import (  # noqa\n\u001b[1;32m     33\u001b[0m     \u001b[0mColumn\u001b[0m\u001b[0;34m,\u001b[0m \u001b[0mListLike\u001b[0m\u001b[0;34m,\u001b[0m \u001b[0mListPanel\u001b[0m\u001b[0;34m,\u001b[0m \u001b[0mPanel\u001b[0m\u001b[0;34m,\u001b[0m \u001b[0mRow\u001b[0m\u001b[0;34m,\u001b[0m \u001b[0mWidgetBox\u001b[0m\u001b[0;34m,\u001b[0m\u001b[0;34m\u001b[0m\u001b[0;34m\u001b[0m\u001b[0m\n",
      "\u001b[0;32m~/opt/anaconda3/lib/python3.9/site-packages/panel/layout/accordion.py\u001b[0m in \u001b[0;36m<module>\u001b[0;34m\u001b[0m\n\u001b[1;32m      5\u001b[0m \u001b[0;32mimport\u001b[0m \u001b[0mparam\u001b[0m\u001b[0;34m\u001b[0m\u001b[0;34m\u001b[0m\u001b[0m\n\u001b[1;32m      6\u001b[0m \u001b[0;34m\u001b[0m\u001b[0m\n\u001b[0;32m----> 7\u001b[0;31m \u001b[0;32mfrom\u001b[0m \u001b[0mbokeh\u001b[0m\u001b[0;34m.\u001b[0m\u001b[0mmodels\u001b[0m \u001b[0;32mimport\u001b[0m \u001b[0mColumn\u001b[0m \u001b[0;32mas\u001b[0m \u001b[0mBkColumn\u001b[0m\u001b[0;34m,\u001b[0m \u001b[0mCustomJS\u001b[0m\u001b[0;34m\u001b[0m\u001b[0;34m\u001b[0m\u001b[0m\n\u001b[0m\u001b[1;32m      8\u001b[0m \u001b[0;34m\u001b[0m\u001b[0m\n\u001b[1;32m      9\u001b[0m \u001b[0;32mfrom\u001b[0m \u001b[0;34m.\u001b[0m\u001b[0mbase\u001b[0m \u001b[0;32mimport\u001b[0m \u001b[0mNamedListPanel\u001b[0m\u001b[0;34m\u001b[0m\u001b[0;34m\u001b[0m\u001b[0m\n",
      "\u001b[0;32m~/opt/anaconda3/lib/python3.9/site-packages/bokeh/models/__init__.py\u001b[0m in \u001b[0;36m<module>\u001b[0;34m\u001b[0m\n\u001b[1;32m     31\u001b[0m \u001b[0;34m\u001b[0m\u001b[0m\n\u001b[1;32m     32\u001b[0m \u001b[0;31m# Bokeh imports\u001b[0m\u001b[0;34m\u001b[0m\u001b[0;34m\u001b[0m\u001b[0m\n\u001b[0;32m---> 33\u001b[0;31m \u001b[0;32mfrom\u001b[0m \u001b[0;34m.\u001b[0m\u001b[0;34m.\u001b[0m\u001b[0mcore\u001b[0m\u001b[0;34m.\u001b[0m\u001b[0mproperty\u001b[0m\u001b[0;34m.\u001b[0m\u001b[0mdataspec\u001b[0m \u001b[0;32mimport\u001b[0m \u001b[0mexpr\u001b[0m\u001b[0;34m,\u001b[0m \u001b[0mfield\u001b[0m\u001b[0;34m,\u001b[0m \u001b[0mvalue\u001b[0m  \u001b[0;31m# Legacy API\u001b[0m\u001b[0;34m\u001b[0m\u001b[0;34m\u001b[0m\u001b[0m\n\u001b[0m\u001b[1;32m     34\u001b[0m \u001b[0;32mfrom\u001b[0m \u001b[0;34m.\u001b[0m\u001b[0;34m.\u001b[0m\u001b[0mmodel\u001b[0m \u001b[0;32mimport\u001b[0m \u001b[0mModel\u001b[0m\u001b[0;34m\u001b[0m\u001b[0;34m\u001b[0m\u001b[0m\n\u001b[1;32m     35\u001b[0m \u001b[0;32mfrom\u001b[0m \u001b[0;34m.\u001b[0m\u001b[0mannotations\u001b[0m \u001b[0;32mimport\u001b[0m \u001b[0;34m*\u001b[0m\u001b[0;34m\u001b[0m\u001b[0;34m\u001b[0m\u001b[0m\n",
      "\u001b[0;32m~/opt/anaconda3/lib/python3.9/site-packages/bokeh/core/property/dataspec.py\u001b[0m in \u001b[0;36m<module>\u001b[0;34m\u001b[0m\n\u001b[1;32m     33\u001b[0m \u001b[0;32mfrom\u001b[0m \u001b[0;34m...\u001b[0m\u001b[0mutil\u001b[0m\u001b[0;34m.\u001b[0m\u001b[0mstring\u001b[0m \u001b[0;32mimport\u001b[0m \u001b[0mnice_join\u001b[0m\u001b[0;34m\u001b[0m\u001b[0;34m\u001b[0m\u001b[0m\n\u001b[1;32m     34\u001b[0m \u001b[0;32mfrom\u001b[0m \u001b[0;34m.\u001b[0m\u001b[0;34m.\u001b[0m \u001b[0;32mimport\u001b[0m \u001b[0menums\u001b[0m\u001b[0;34m\u001b[0m\u001b[0;34m\u001b[0m\u001b[0m\n\u001b[0;32m---> 35\u001b[0;31m \u001b[0;32mfrom\u001b[0m \u001b[0;34m.\u001b[0m\u001b[0mcolor\u001b[0m \u001b[0;32mimport\u001b[0m \u001b[0mColor\u001b[0m\u001b[0;34m\u001b[0m\u001b[0;34m\u001b[0m\u001b[0m\n\u001b[0m\u001b[1;32m     36\u001b[0m \u001b[0;32mfrom\u001b[0m \u001b[0;34m.\u001b[0m\u001b[0mcontainer\u001b[0m \u001b[0;32mimport\u001b[0m \u001b[0mDict\u001b[0m\u001b[0;34m,\u001b[0m \u001b[0mList\u001b[0m\u001b[0;34m\u001b[0m\u001b[0;34m\u001b[0m\u001b[0m\n\u001b[1;32m     37\u001b[0m \u001b[0;32mfrom\u001b[0m \u001b[0;34m.\u001b[0m\u001b[0mdatetime\u001b[0m \u001b[0;32mimport\u001b[0m \u001b[0mDatetime\u001b[0m\u001b[0;34m,\u001b[0m \u001b[0mTimeDelta\u001b[0m\u001b[0;34m\u001b[0m\u001b[0;34m\u001b[0m\u001b[0m\n",
      "\u001b[0;32m~/opt/anaconda3/lib/python3.9/site-packages/bokeh/core/property/color.py\u001b[0m in \u001b[0;36m<module>\u001b[0;34m\u001b[0m\n\u001b[1;32m     28\u001b[0m \u001b[0;32mfrom\u001b[0m \u001b[0;34m.\u001b[0m\u001b[0;34m.\u001b[0m \u001b[0;32mimport\u001b[0m \u001b[0menums\u001b[0m\u001b[0;34m\u001b[0m\u001b[0;34m\u001b[0m\u001b[0m\n\u001b[1;32m     29\u001b[0m \u001b[0;32mfrom\u001b[0m \u001b[0;34m.\u001b[0m\u001b[0mbases\u001b[0m \u001b[0;32mimport\u001b[0m \u001b[0mProperty\u001b[0m\u001b[0;34m\u001b[0m\u001b[0;34m\u001b[0m\u001b[0m\n\u001b[0;32m---> 30\u001b[0;31m \u001b[0;32mfrom\u001b[0m \u001b[0;34m.\u001b[0m\u001b[0mcontainer\u001b[0m \u001b[0;32mimport\u001b[0m \u001b[0mTuple\u001b[0m\u001b[0;34m\u001b[0m\u001b[0;34m\u001b[0m\u001b[0m\n\u001b[0m\u001b[1;32m     31\u001b[0m \u001b[0;32mfrom\u001b[0m \u001b[0;34m.\u001b[0m\u001b[0meither\u001b[0m \u001b[0;32mimport\u001b[0m \u001b[0mEither\u001b[0m\u001b[0;34m\u001b[0m\u001b[0;34m\u001b[0m\u001b[0m\n\u001b[1;32m     32\u001b[0m \u001b[0;32mfrom\u001b[0m \u001b[0;34m.\u001b[0m\u001b[0menum\u001b[0m \u001b[0;32mimport\u001b[0m \u001b[0mEnum\u001b[0m\u001b[0;34m\u001b[0m\u001b[0;34m\u001b[0m\u001b[0m\n",
      "\u001b[0;32m~/opt/anaconda3/lib/python3.9/site-packages/bokeh/core/property/container.py\u001b[0m in \u001b[0;36m<module>\u001b[0;34m\u001b[0m\n\u001b[1;32m     36\u001b[0m \u001b[0;32mfrom\u001b[0m \u001b[0;34m.\u001b[0m\u001b[0mbases\u001b[0m \u001b[0;32mimport\u001b[0m \u001b[0mContainerProperty\u001b[0m\u001b[0;34m,\u001b[0m \u001b[0mDeserializationError\u001b[0m\u001b[0;34m\u001b[0m\u001b[0;34m\u001b[0m\u001b[0m\n\u001b[1;32m     37\u001b[0m \u001b[0;32mfrom\u001b[0m \u001b[0;34m.\u001b[0m\u001b[0mdescriptors\u001b[0m \u001b[0;32mimport\u001b[0m \u001b[0mColumnDataPropertyDescriptor\u001b[0m\u001b[0;34m\u001b[0m\u001b[0;34m\u001b[0m\u001b[0m\n\u001b[0;32m---> 38\u001b[0;31m \u001b[0;32mfrom\u001b[0m \u001b[0;34m.\u001b[0m\u001b[0menum\u001b[0m \u001b[0;32mimport\u001b[0m \u001b[0mEnum\u001b[0m\u001b[0;34m\u001b[0m\u001b[0;34m\u001b[0m\u001b[0m\n\u001b[0m\u001b[1;32m     39\u001b[0m \u001b[0;32mfrom\u001b[0m \u001b[0;34m.\u001b[0m\u001b[0mnumeric\u001b[0m \u001b[0;32mimport\u001b[0m \u001b[0mInt\u001b[0m\u001b[0;34m\u001b[0m\u001b[0;34m\u001b[0m\u001b[0m\n\u001b[1;32m     40\u001b[0m \u001b[0;32mfrom\u001b[0m \u001b[0;34m.\u001b[0m\u001b[0msingletons\u001b[0m \u001b[0;32mimport\u001b[0m \u001b[0mUndefined\u001b[0m\u001b[0;34m\u001b[0m\u001b[0;34m\u001b[0m\u001b[0m\n",
      "\u001b[0;32m~/opt/anaconda3/lib/python3.9/site-packages/bokeh/core/property/enum.py\u001b[0m in \u001b[0;36m<module>\u001b[0;34m\u001b[0m\n\u001b[1;32m     25\u001b[0m \u001b[0;32mfrom\u001b[0m \u001b[0;34m.\u001b[0m\u001b[0;34m.\u001b[0m \u001b[0;32mimport\u001b[0m \u001b[0menums\u001b[0m\u001b[0;34m\u001b[0m\u001b[0;34m\u001b[0m\u001b[0m\n\u001b[1;32m     26\u001b[0m \u001b[0;32mfrom\u001b[0m \u001b[0;34m.\u001b[0m\u001b[0m_sphinx\u001b[0m \u001b[0;32mimport\u001b[0m \u001b[0mmodel_link\u001b[0m\u001b[0;34m,\u001b[0m \u001b[0mproperty_link\u001b[0m\u001b[0;34m,\u001b[0m \u001b[0mregister_type_link\u001b[0m\u001b[0;34m\u001b[0m\u001b[0;34m\u001b[0m\u001b[0m\n\u001b[0;32m---> 27\u001b[0;31m \u001b[0;32mfrom\u001b[0m \u001b[0;34m.\u001b[0m\u001b[0mprimitive\u001b[0m \u001b[0;32mimport\u001b[0m \u001b[0mString\u001b[0m\u001b[0;34m\u001b[0m\u001b[0;34m\u001b[0m\u001b[0m\n\u001b[0m\u001b[1;32m     28\u001b[0m \u001b[0;32mfrom\u001b[0m \u001b[0;34m.\u001b[0m\u001b[0msingletons\u001b[0m \u001b[0;32mimport\u001b[0m \u001b[0mIntrinsic\u001b[0m\u001b[0;34m\u001b[0m\u001b[0;34m\u001b[0m\u001b[0m\n\u001b[1;32m     29\u001b[0m \u001b[0;34m\u001b[0m\u001b[0m\n",
      "\u001b[0;32m~/opt/anaconda3/lib/python3.9/site-packages/bokeh/core/property/primitive.py\u001b[0m in \u001b[0;36m<module>\u001b[0;34m\u001b[0m\n\u001b[1;32m     35\u001b[0m \u001b[0;32mtry\u001b[0m\u001b[0;34m:\u001b[0m\u001b[0;34m\u001b[0m\u001b[0;34m\u001b[0m\u001b[0m\n\u001b[1;32m     36\u001b[0m     \u001b[0;32mimport\u001b[0m \u001b[0mnumpy\u001b[0m \u001b[0;32mas\u001b[0m \u001b[0mnp\u001b[0m\u001b[0;34m\u001b[0m\u001b[0;34m\u001b[0m\u001b[0m\n\u001b[0;32m---> 37\u001b[0;31m     \u001b[0mbokeh_bool_types\u001b[0m \u001b[0;34m+=\u001b[0m \u001b[0;34m(\u001b[0m\u001b[0mnp\u001b[0m\u001b[0;34m.\u001b[0m\u001b[0mbool8\u001b[0m\u001b[0;34m,\u001b[0m\u001b[0;34m)\u001b[0m\u001b[0;34m\u001b[0m\u001b[0;34m\u001b[0m\u001b[0m\n\u001b[0m\u001b[1;32m     38\u001b[0m \u001b[0;32mexcept\u001b[0m \u001b[0mImportError\u001b[0m\u001b[0;34m:\u001b[0m\u001b[0;34m\u001b[0m\u001b[0;34m\u001b[0m\u001b[0m\n\u001b[1;32m     39\u001b[0m     \u001b[0;32mpass\u001b[0m\u001b[0;34m\u001b[0m\u001b[0;34m\u001b[0m\u001b[0m\n",
      "\u001b[0;32m~/opt/anaconda3/lib/python3.9/site-packages/numpy/__init__.py\u001b[0m in \u001b[0;36m__getattr__\u001b[0;34m(attr)\u001b[0m\n\u001b[1;32m    408\u001b[0m             \u001b[0;32mreturn\u001b[0m \u001b[0mchar\u001b[0m\u001b[0;34m.\u001b[0m\u001b[0mchararray\u001b[0m\u001b[0;34m\u001b[0m\u001b[0;34m\u001b[0m\u001b[0m\n\u001b[1;32m    409\u001b[0m \u001b[0;34m\u001b[0m\u001b[0m\n\u001b[0;32m--> 410\u001b[0;31m         raise AttributeError(\"module {!r} has no attribute \"\n\u001b[0m\u001b[1;32m    411\u001b[0m                              \"{!r}\".format(__name__, attr))\n\u001b[1;32m    412\u001b[0m \u001b[0;34m\u001b[0m\u001b[0m\n",
      "\u001b[0;31mAttributeError\u001b[0m: module 'numpy' has no attribute 'bool8'"
     ]
    }
   ],
   "source": [
    "import holoviews as hv\n",
    "from holoviews import opts\n",
    "hv.extension('bokeh')"
   ]
  },
  {
   "cell_type": "code",
   "execution_count": 18,
   "id": "546fd1a3",
   "metadata": {},
   "outputs": [
    {
     "ename": "NameError",
     "evalue": "name 'hv' is not defined",
     "output_type": "error",
     "traceback": [
      "\u001b[0;31m---------------------------------------------------------------------------\u001b[0m",
      "\u001b[0;31mNameError\u001b[0m                                 Traceback (most recent call last)",
      "\u001b[0;32m/var/folders/n_/my2vz6092ml5ww54dsp1njw40000gn/T/ipykernel_1969/3024195478.py\u001b[0m in \u001b[0;36m<module>\u001b[0;34m\u001b[0m\n\u001b[0;32m----> 1\u001b[0;31m Hourly = hv.Curve(df.set_index('timestamp').resample('H').mean()).opts(\n\u001b[0m\u001b[1;32m      2\u001b[0m     opts.Curve(title=\"New York City Taxi Demand Hourly\", xlabel=\"\", ylabel=\"Demand\",\n\u001b[1;32m      3\u001b[0m                width=700, height=300,tools=['hover'],show_grid=True))\n\u001b[1;32m      4\u001b[0m \u001b[0;34m\u001b[0m\u001b[0m\n\u001b[1;32m      5\u001b[0m Daily = hv.Curve(df.set_index('timestamp').resample('D').mean()).opts(\n",
      "\u001b[0;31mNameError\u001b[0m: name 'hv' is not defined"
     ]
    }
   ],
   "source": [
    "Hourly = hv.Curve(df.set_index('timestamp').resample('H').mean()).opts(\n",
    "    opts.Curve(title=\"New York City Taxi Demand Hourly\", xlabel=\"\", ylabel=\"Demand\",\n",
    "               width=700, height=300,tools=['hover'],show_grid=True))\n",
    "\n",
    "Daily = hv.Curve(df.set_index('timestamp').resample('D').mean()).opts(\n",
    "    opts.Curve(title=\"New York City Taxi Demand Daily\", xlabel=\"\", ylabel=\"Demand\",\n",
    "               width=700, height=300,tools=['hover'],show_grid=True))\n",
    "\n",
    "Weekly = hv.Curve(df.set_index('timestamp').resample('W').mean()).opts(\n",
    "    opts.Curve(title=\"New York City Taxi Demand Weekly\", xlabel=\"Date\", ylabel=\"Demand\",\n",
    "               width=700, height=300,tools=['hover'],show_grid=True))\n",
    "\n",
    "\n",
    "(Hourly + Daily + Weekly).opts(shared_axes=False).cols(1)"
   ]
  }
 ],
 "metadata": {
  "kernelspec": {
   "display_name": "Python (xgboost_env)",
   "language": "python",
   "name": "xgboost_env"
  },
  "language_info": {
   "codemirror_mode": {
    "name": "ipython",
    "version": 3
   },
   "file_extension": ".py",
   "mimetype": "text/x-python",
   "name": "python",
   "nbconvert_exporter": "python",
   "pygments_lexer": "ipython3",
   "version": "3.9.7"
  }
 },
 "nbformat": 4,
 "nbformat_minor": 5
}
